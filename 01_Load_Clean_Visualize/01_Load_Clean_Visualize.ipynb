{
 "cells": [
  {
   "cell_type": "markdown",
   "metadata": {},
   "source": [
    "# Daten: Einlesen, Bereinigen & Visualisieren"
   ]
  },
  {
   "cell_type": "markdown",
   "metadata": {},
   "source": [
    "## Import von Bibliotheken  \n",
    "Wir importieren die Bibliotheken: \n",
    " - glob bietet Funktionen, um Pfadnamen im Unix-Stil über Muster zu erweitern. Dies ist sehr Hilfreich, wenn wir mit vielen Dateien und Ordnern arbeiten. \n",
    " - pandas ist eine sehr mächtige Bibliothek für inhomogene tabellarische Daten sog. DataFrames. Sie ist ebenfalls eine der de facto Standardbibliotheken im Bereich Data Science und Machine Learning. Hier verwenden wir sie für die Bearbeitung der Daten in einer .csv bzw. .xlsx Datei. \n",
    " - openpyxl erlaubt das Öffen und Bearbeiten von Excel 2010 Dateiformaten. Ausserdem bietet sie eine Schnittstelle zu pandas. Prinzipiell ist openpyxl die bessere Wahl, wenn die Struktur/Formatierung der Excel-Datei wichtig ist. Wenn es rein um die enthaltenen Daten und deren Verarbeitung geht, ist pandas meist die bessere Wahl (und ggf. einer Konvertierung des Dateiformats)"
   ]
  },
  {
   "cell_type": "code",
   "execution_count": null,
   "metadata": {},
   "outputs": [],
   "source": [
    "import pandas as pd\n",
    "import seaborn as sns\n",
    "import glob\n",
    "import openpyxl\n",
    "import os\n",
    "import matplotlib\n",
    "%matplotlib notebook\n",
    "# mit der notebook option fuer matplotlib bekommen wir interaktive plots, welche sich besser zur exploration eignen\n",
    "# fuer reports sollten die grafiken statisch erstellt und angepasst werden mit %matplotlib inline\n",
    "\n",
    "# dieser befehl laesst uns die groesse der plots global veraendern\n",
    "#matplotlib.rcParams['figure.figsize'] = [16,9]\n",
    "import matplotlib.pyplot as plt"
   ]
  },
  {
   "cell_type": "markdown",
   "metadata": {},
   "source": [
    "## Einlesen einer CSV-Datei aus einem lokalen Ordner"
   ]
  },
  {
   "cell_type": "markdown",
   "metadata": {},
   "source": [
    "pandas bietet uns Einlese-Funktionen für verschiedene Formate, in diesem Beispiel erwartet das Notebook einen Datensatz von FIFA Spielern im csv format im Ordner `resources/data`."
   ]
  },
  {
   "cell_type": "code",
   "execution_count": null,
   "metadata": {
    "scrolled": true
   },
   "outputs": [],
   "source": [
    "df = pd.read_csv('../resources/data/fifa19.csv')"
   ]
  },
  {
   "cell_type": "markdown",
   "metadata": {},
   "source": [
    "Während der Datenbearbeitung will man oft die Struktur der Daten vor und nach einzelnen Operationen überprüfen, um sicherzugehen, dass die Operationen korrekt ausgeführt wurden bzw. welche zunächst anzuwenden sind. Die Funktion head() gibt die ersten 5 Zeilen (konfigurierbar) eines DataFrame aus.\n",
    "[pandas.DataFrame.head() Doku](https://pandas.pydata.org/docs/reference/api/pandas.DataFrame.head.html)"
   ]
  },
  {
   "cell_type": "code",
   "execution_count": null,
   "metadata": {
    "scrolled": true
   },
   "outputs": [],
   "source": [
    "df.head()"
   ]
  },
  {
   "cell_type": "markdown",
   "metadata": {},
   "source": [
    "Rohdaten einsehen ist jedoch nicht immer hilfreich oder ueberschaubar (df.head() z.B. druckt nicht alle Spalten im Notebook), weswegen ein DataFrame Methoden zur Uebersicht bereitstellt. \n",
    "- [pandas.DataFrame.describe() Doku](https://pandas.pydata.org/docs/reference/api/pandas.DataFrame.describe.html)\n",
    "- [pandas.DataFrame.info() Doku](https://pandas.pydata.org/docs/reference/api/pandas.DataFrame.info.html)"
   ]
  },
  {
   "cell_type": "code",
   "execution_count": null,
   "metadata": {},
   "outputs": [],
   "source": [
    "df.info()"
   ]
  },
  {
   "cell_type": "code",
   "execution_count": null,
   "metadata": {},
   "outputs": [],
   "source": [
    "df.describe()"
   ]
  },
  {
   "cell_type": "markdown",
   "metadata": {},
   "source": [
    "Die Datei enthaelt also Informationen ueber einzelene Spieler, wie deren Spielstatistiken, aber auch Nationalität und Club-Zugehörigkeit. Die Art der Daten ist gemischt, die statistischen Daten sind Dezimalzahlen, die Clubzugehörigkeit oder Nationalität sind nominelle Variablen (Eine aus N Möglichkeiten, nicht numerisch/geordnet).  \n",
    "Schauen wir uns zuerst einmal an, wieviele Clubs überhaupt in dem Datensatz gelistet sind. Dazu gibt es einen einfachen Trick: Man berechnet die der einzigartigen Einträge (.unique()) der Spalte (\"Club\") und berechnet die Länge des Resultats."
   ]
  },
  {
   "cell_type": "code",
   "execution_count": null,
   "metadata": {},
   "outputs": [],
   "source": []
  },
  {
   "cell_type": "markdown",
   "metadata": {},
   "source": [
    "Welche anderen Eigenschaften des Datensatzes könnten wir zusaetzlich untersuchen?\n",
    "\n",
    "Wie gehen wir mit fehlenden Informationen um?"
   ]
  },
  {
   "cell_type": "markdown",
   "metadata": {},
   "source": [
    "## Erster Schritt: Exploration und Visualisierung der Daten\n",
    "Am Anfang eines datengestuetzten Projektes steht die Exploration und Visualisierung der Daten. Eine moegliche Fragestellung in diesem Kontext ist es, mehr ueber die Leistungsfaehigkeit einzelner Clubs zu erfahren. Dazu koennen wir uns einzelne Variablen und Kombinationen von Spielervariablen ansehen und daraus Rueckschluesse ziehen. Ein erster guter Ansatz hierbei besteht darin, statistische Kennzahlen unterschiedlicher Variablen auszuwerten.  \n",
    "\n",
    "Dieser Datensatz enthaelt bereits mehrere Leistungskennzahlen fuer jeden Spieler - wir koennten also zum Beispiel die mittleren Leistungswerte der Spieler pro Club ansehen. Da es sehr viele Clubs gibt, untersuchen wir zuerst nur die jeweils drei \"schlechtesten\" und \"besten\" Clubs (nach durchschnittlicher 'Overall'-Spielerbewertung, nicht nacht wirklichen Ergebnissen!) und visualisieren die Verteilung der Kennzahlen in einem sogenannten 'boxplot'.  \n",
    "Ein boxplot ist sozusagen die 'Draufsicht' auf eine statistische Verteilung, bei der Mittelwert, Schiefe durch 'Boxen' (enhalten die mittleren 50% der Daten) und 'Antennen' ausgedrueckt werden.\n"
   ]
  },
  {
   "cell_type": "markdown",
   "metadata": {},
   "source": [
    "### 1. Boxplot der Spalte \"Overall\" für die drei besten bzw. schlechtesten Clubs\n"
   ]
  },
  {
   "cell_type": "markdown",
   "metadata": {},
   "source": [
    "Zuersteinmal muessen wir die \"besten/schlechtesten\" Clubs herausfiltern. Das machen wir, indem wir unseren DataFrame nach der Spalte der Clubzuordnung gruppieren. Die Funktion dazu heisst naheliegend \"groupby()\" [pandas.DatraFrame.groupby() Doku](https://pandas.pydata.org/pandas-docs/stable/reference/groupby.html).  \n",
    "Die so herausgefundenen Clubnamen kombinieren wir in einer Liste und indizieren anhand dieser dann den DataFrame:"
   ]
  },
  {
   "cell_type": "code",
   "execution_count": null,
   "metadata": {},
   "outputs": [],
   "source": []
  },
  {
   "cell_type": "markdown",
   "metadata": {},
   "source": [
    "Nun haben wir die Selektion der 6 Clubs in dem dataframe 'df_selection' und koennen darueber einen boxplot erstellen:"
   ]
  },
  {
   "cell_type": "code",
   "execution_count": null,
   "metadata": {},
   "outputs": [],
   "source": []
  },
  {
   "cell_type": "markdown",
   "metadata": {},
   "source": [
    "Bei Inter Mailand, Juventus und Limerick gibt es offensichtlich einige Ausreißer, die wir uns gesondert noch anschauen moechten."
   ]
  },
  {
   "cell_type": "code",
   "execution_count": null,
   "metadata": {},
   "outputs": [],
   "source": []
  },
  {
   "cell_type": "markdown",
   "metadata": {},
   "source": [
    "### 2. Bearbeiten und Visualiseren der Marktwerte (Spalte 'Release Clause') \n",
    "\n",
    "Eine weitere Moeglichkeit, die uns dieser Datensatz bietet, ist eine Analyse der Marktwerte der aufgezeichneten Spieler.\n",
    "Dabei ergibt sich in der  Spalte 'Release Clause' das Problem, dass der Wert im Textformat vorliegt und somit nicht direkt zur Berechnung herangezogen werden kann. Hierzu muessen wir diese Spalte in einen numerischen Datentyp umwandeln. Diese Information beziehen wir durch die Auflistung der Datentypen aus df.info() bzw. df.dtypes."
   ]
  },
  {
   "cell_type": "code",
   "execution_count": null,
   "metadata": {},
   "outputs": [],
   "source": []
  },
  {
   "cell_type": "markdown",
   "metadata": {},
   "source": [
    "Zuerst muessen wir herausfinden, welche Kodierungen fuer Waehrungen und SI Einheiten ueberhaupt in der Spalte 'Release Clause'  vorkommen. Eine pythonische Moeglichkeit hierzu: wir fuehren alle einzelnen Werte in einen grossen String zusammen und nutzen den Set-Trick aus der Einfuehrung um die einzigartigen Werte zu extrahieren:"
   ]
  },
  {
   "cell_type": "code",
   "execution_count": null,
   "metadata": {},
   "outputs": [],
   "source": []
  },
  {
   "cell_type": "markdown",
   "metadata": {},
   "source": [
    "### 3. Untersuchung der physischen Eigenschaften einzelner Spieler nach ihrer Position\n",
    "In einem weiteren Scatterplot moechten wir uns nun Staerke vs. Ausdauer der Spieler, coloriert nach Position, genauer ansehen.\n",
    "Auch hierzu sind ein paar Anpassungen am Datensatz notwendig, um diese Grafik darstellen zu koennen.\n",
    "Wir beginnen mit der Untersuchung bei der Variable 'Position'."
   ]
  },
  {
   "cell_type": "code",
   "execution_count": null,
   "metadata": {},
   "outputs": [],
   "source": []
  },
  {
   "cell_type": "markdown",
   "metadata": {},
   "source": [
    "Dies ist zwar eine sehr genaue Auflistung, jedoch eventuell etwas zu kleinteilig um diese Variable direkt in entsprechenden Grafiken zu nutzen. Deshalb konvertieren wir die Positionen der Spieler in die Werte  Angriff, Mittelfeld, Verteidigung und Torwart, um visuelle Klarheit zu schaffen."
   ]
  },
  {
   "cell_type": "code",
   "execution_count": null,
   "metadata": {},
   "outputs": [],
   "source": []
  },
  {
   "cell_type": "code",
   "execution_count": null,
   "metadata": {},
   "outputs": [],
   "source": []
  },
  {
   "cell_type": "markdown",
   "metadata": {},
   "source": [
    "Oft bestaetigen die Daten, was wir sowieso schon wissen oder vermuten - in diesem Fall sehen wir recht gut, dass Torwarte tendenziell weniger Ausdauer als Feldspieler haben."
   ]
  },
  {
   "cell_type": "markdown",
   "metadata": {},
   "source": [
    "### 4. Weitere Plots!\n",
    "\n",
    "Was interessiert uns noch? Um weitere Inspiration zu erhalten, koennten wir uns die Dokumentation von [seaborn](https://seaborn.pydata.org/), unserer Visualisierungsbibliothek, genauer ansehen. "
   ]
  },
  {
   "cell_type": "code",
   "execution_count": null,
   "metadata": {},
   "outputs": [],
   "source": []
  },
  {
   "cell_type": "markdown",
   "metadata": {},
   "source": [
    "## Exkurs: Gruppieren und Export der Daten in ein anderes Format \n",
    "Als naechstes waere es interessant, die Spieler nach ihrem Club zu gruppieren. Dazu gibt es in Pandas die Funktion groupby(), welche den DataFrame anhand von Kriterien aufteilt, in diesem Fall nehmen wir als Kriterium die Variable \"Club\".  \n",
    "Das Ergebnis der Operation ist eine iterierbare Sammlung von Gruppierungen, für die wir je Gruppe den Namen (des Clubs) und die dazugehörigen Daten erhalten.  \n",
    "Zu Demonstrationszwecken teilen wir diese Daten auf jeweils eine eigene Excel-Datei auf (nur um zu zeigen, wie man mit Excel-Dateien arbeitet).  \n",
    "Wir lassen also eine for-Schleife über die GroupBy-Sequenz laufen und versuchen, für jede Gruppe eine Datei zu erstellen. Da diese Operation fehlschlagen kann, sollten wir sie mit einem try-except Block abfangen, welcher explizit angibt, was im Fehlerfall zu tun ist:  \n",
    "[Exceptions Docs](https://docs.python.org/3/library/exceptions.html)  \n",
    "\n",
    "Um die neuen Dateien von der Quelldatei zu trennen, erstellen wir erst noch einen eigenen Unterordner. Wenn Sie die Zelle mehr als einmal Ausführen wird es einen Fehler geben, da der Ordner ja schon vorhanden ist und nicht überschrieben wird."
   ]
  },
  {
   "cell_type": "code",
   "execution_count": null,
   "metadata": {},
   "outputs": [],
   "source": [
    "path = \"../resources/data/clubs/\"\n",
    "\n",
    "try:\n",
    "    os.mkdir(path)\n",
    "except OSError:\n",
    "    print (\"Creation of the directory %s failed\" % path)\n",
    "else:\n",
    "    print (\"Successfully created the directory %s \" % path)"
   ]
  },
  {
   "cell_type": "code",
   "execution_count": null,
   "metadata": {},
   "outputs": [],
   "source": []
  },
  {
   "cell_type": "markdown",
   "metadata": {},
   "source": [
    "Was passiert hier? Einer der Clubnamen enthaelt einen Forward-Slash ('/'), welcher im Pfadnamen als Unterordner interpretiert wird, welcher nicht exitiert. Wir müssen den String also erst bereinigen, bevor wir diese Datei schreiben können.  \n",
    "Dazu waehlen wir die gesamte Spalte \"Club\" an und führen einen Textersatz durch. Die Operation wird dann auf alle Elemente der Spalte angewendet. Mit der erneuten Zuweisung wird dann das Original überschrieben."
   ]
  },
  {
   "cell_type": "code",
   "execution_count": null,
   "metadata": {},
   "outputs": [],
   "source": []
  },
  {
   "cell_type": "markdown",
   "metadata": {},
   "source": [
    "Der neue Clubname lautet also \"FK Bodø Glimt\". Im gesamten DataFrame können wir die Adressierung nun testen und uns ansehen, welche Spieler dort unter Vertrag sind. In pandas gibt es mehrere Moeglichkeiten, Spalten anzuwaehlen. Die gaengigste ist jedoch das sog. Boolean Indexing, also eine Anwahl über einen logischen Ausdruck. In pandas duerfen diese Ausdrücke direkt in die eckigen Klammern der Adressierung geschrieben werden.  \n",
    "Das koennte sich so lesen: Waehle Eintraege aus 'df', für die die Spalte 'Club' gleich der Zeichenkette 'FK Bodø Glimt' ist."
   ]
  },
  {
   "cell_type": "code",
   "execution_count": null,
   "metadata": {},
   "outputs": [],
   "source": []
  },
  {
   "cell_type": "markdown",
   "metadata": {},
   "source": [
    "Nachdem diese Operation das gewuenschte Ergebnis erbracht hat, koennen wir diese Datei nachtraeglich ebenfalls exportieren:"
   ]
  },
  {
   "cell_type": "code",
   "execution_count": null,
   "metadata": {},
   "outputs": [],
   "source": []
  },
  {
   "cell_type": "markdown",
   "metadata": {},
   "source": [
    "## Einlesen von mehreren lokalen Dateien via Pattern Matching  \n",
    "Nachdem wir nun eine Menge neuer Dateien erzeugt haben, wollen wir diese alle automatisiert einlesen. Fuer Sie koennten das z.b. Datenbank-Exporte aus eienm ERP-System oder eine Sammlung von Logfiles sein. Mit der glob-Bibliothek finden wir nun alle vorhandenen Dateien/Pfade, welche eine xlsx-Datei mit beliebigem Namen (gekennzeichnet durch die \"Wildcard\" *) sind. Das Resultat sind alle gefundenen Dateinamen unter dem gegebenen Muster: "
   ]
  },
  {
   "cell_type": "code",
   "execution_count": null,
   "metadata": {},
   "outputs": [],
   "source": []
  },
  {
   "cell_type": "code",
   "execution_count": null,
   "metadata": {},
   "outputs": [],
   "source": []
  },
  {
   "cell_type": "markdown",
   "metadata": {},
   "source": [
    "Achtung! Die Anzahl der gefundenen Dateien ist um 1 kleiner, als die Anzahl der Clubs im Ausgangsdatensatz!  \n",
    "### Was ist hier passiert?  \n",
    "Wir sollten herausfinden, worin die Diskrepanz besteht. Dazu benutzen wir wieder Mengenoperationen. \n",
    "Zuerst brauchen wir die Clubnamen der erzeugten Dateien - dazu teilen wir die matched-Pfade zwischen Dateiname und Dateiendung mit der Split-Funktion (Die jeweiligen Abgespaltenen Teile können mit eckigen Klammern hinter der Funktion adressiert werden). Dieses Ergebnis wandeln wir in ein Set um (Reminder: Sets enthalten keine Duplikate)"
   ]
  },
  {
   "cell_type": "code",
   "execution_count": null,
   "metadata": {},
   "outputs": [],
   "source": []
  },
  {
   "cell_type": "markdown",
   "metadata": {},
   "source": [
    "Beim Original DataFrame ist es einfach, dort koennen wir wieder die unique() Funktion nutzen und muessen ebenfalls ein set erstellen um die Mengenoperatoren nutzen zu können:"
   ]
  },
  {
   "cell_type": "code",
   "execution_count": null,
   "metadata": {},
   "outputs": [],
   "source": []
  },
  {
   "cell_type": "markdown",
   "metadata": {},
   "source": [
    "Nun schauen wir, welche Eintraege entweder in der einen, oder der anderen Menge enthalten sind:"
   ]
  },
  {
   "cell_type": "code",
   "execution_count": null,
   "metadata": {},
   "outputs": [],
   "source": []
  },
  {
   "cell_type": "markdown",
   "metadata": {},
   "source": [
    "Der Eintrag nan ('not a number', bzw. NA in neueren pandas Versionen) signalisiert fehlende oder invalide Werte. Das heißt in unserem Datensatz gab es auch Spieler ohne Club-Zuordnung also einem leeren Textfeld.  \n",
    "Diese muessen wir also noch gesondert behandeln, wir nennen sie 'Free Agent'. Wir waehlen also die Zeilen aus, in denen die Spalte Club den wert nan enthaelt und ueberschreiben ihn mit 'Free Agent' mit der DataFrame Funktion loc() fuehren wir diese Operation \"in-place\" aus (also ohne zusaetzlichen Speicher zu verbrauchen)."
   ]
  },
  {
   "cell_type": "code",
   "execution_count": null,
   "metadata": {},
   "outputs": [],
   "source": []
  },
  {
   "cell_type": "markdown",
   "metadata": {},
   "source": [
    "Kurze Verifikation der Prozedur:"
   ]
  },
  {
   "cell_type": "code",
   "execution_count": null,
   "metadata": {},
   "outputs": [],
   "source": []
  },
  {
   "cell_type": "markdown",
   "metadata": {},
   "source": [
    "Und auch hier muessen wir diesen Fall wieder einzeln nachtraeglich bearbeiten, da Dateien mit nan Namen nicht erzeugt wurden."
   ]
  },
  {
   "cell_type": "code",
   "execution_count": null,
   "metadata": {},
   "outputs": [],
   "source": []
  },
  {
   "cell_type": "markdown",
   "metadata": {},
   "source": [
    "Erneutes Matching mittels glob ergibt nun die korrekte Laenge:"
   ]
  },
  {
   "cell_type": "code",
   "execution_count": null,
   "metadata": {},
   "outputs": [],
   "source": []
  },
  {
   "cell_type": "markdown",
   "metadata": {},
   "source": [
    "Um bestimmte Einträge z.B. Spieler in unseren Dateien zu finden, kombinieren wir nun alles hier Gelernte in einem Code-Block.  \n",
    " - Iterieren von matched file names mittels glob  \n",
    " - Lesen der Excel-Files mit pandas  \n",
    " - Addressierung der Eintraege über pandas Funktionalität  \n",
    " - Export der bearbeiteten Daten durch pandas\n",
    "\n",
    "Wieder koennen wir das Boolean Indexing verwenden um auf Namen zu pruefen. Da wir nicht genau wissen, ob mehrere Spieler den gleichen Namen tragen, fragen wir nur ab, ob der Name einen gewissen String enthaelt und kombinieren dies mit der Nationalitaet um die Suche einzugrenzen.  \n",
    "Ist ein Spieler gefunden, erhoehen wir in diesem Beispiel seine \"Release Clause\". Dies geht natuerlich für beliebige Eintraege und haengt vom Anwendungsfall ab. "
   ]
  },
  {
   "cell_type": "code",
   "execution_count": null,
   "metadata": {},
   "outputs": [],
   "source": []
  },
  {
   "cell_type": "code",
   "execution_count": null,
   "metadata": {
    "scrolled": true
   },
   "outputs": [],
   "source": []
  }
 ],
 "metadata": {
  "kernelspec": {
   "display_name": "Python 3 (ipykernel)",
   "language": "python",
   "name": "python3"
  },
  "language_info": {
   "codemirror_mode": {
    "name": "ipython",
    "version": 3
   },
   "file_extension": ".py",
   "mimetype": "text/x-python",
   "name": "python",
   "nbconvert_exporter": "python",
   "pygments_lexer": "ipython3",
   "version": "3.9.6"
  }
 },
 "nbformat": 4,
 "nbformat_minor": 4
}
