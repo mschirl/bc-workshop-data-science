{
 "cells": [
  {
   "cell_type": "markdown",
   "id": "73aaf95c",
   "metadata": {},
   "source": [
    "# Daten: Einlesen, Bereinigen & Visualisieren\n",
    "\n",
    "## Das Gelernte anwenden.\n",
    "\n",
    "Um nun die Erkenntnisse aus den bisherigen Workshopinhalten zu festigen, werden wir uns mit einem vollständig neuen Datensatz beschäftigen. Im konkreten Fall möchten wir es versuchen, mit dem gelernten Handwerkszeug ([Python 3.9.6](https://www.python.org/downloads/release/python-396/), [pandas](https://pandas.pydata.org/docs/) & [seaborn](https://seaborn.pydata.org/)) die 120-jährige Geschichte der modernen olympischen Spiele zu analysieren.\n",
    "\n",
    "Die entsprechenden Informationen sind in zwei Dateien, `athlete_events.csv` sowie `noc_regions.csv`, abgelegt.\n",
    "In den nachfolgenden beiden Tabellen sind die darin beschriebenen Spalten und die dazugehörige Spaltenbeschreibung einzusehen."
   ]
  },
  {
   "cell_type": "markdown",
   "id": "f947a977",
   "metadata": {},
   "source": [
    "<table>\n",
    "  <tr>\n",
    "      <td colspan=\"2\"><center><strong>athlete_events.csv</strong></center></td>\n",
    "  </tr>\n",
    "  <tr>\n",
    "    <td><strong>Spalte</strong></td>\n",
    "    <td><strong>Beschreibung</strong></td>\n",
    "  </tr>\n",
    "  <tr>\n",
    "    <td>ID</td>\n",
    "    <td>Einzigartige Identifikationsnummer für jede Athletin</td>\n",
    "  </tr>\n",
    "  <tr>\n",
    "    <td>Name</td>\n",
    "    <td>Name einer Athletin</td>\n",
    "  </tr>\n",
    "  <tr>\n",
    "    <td>Sex</td>\n",
    "    <td>Geschlecht (codiert als M oder F)</td>\n",
    "  </tr>\n",
    "  <tr>\n",
    "    <td>Alter</td>\n",
    "    <td>Integer</td>\n",
    "  </tr>\n",
    "  <tr>\n",
    "    <td>Height</td>\n",
    "    <td>in cm</td>\n",
    "  </tr>\n",
    "  <tr>\n",
    "    <td>Weight</td>\n",
    "    <td>in kg</td>\n",
    "  </tr>\n",
    "  <tr>\n",
    "    <td>Team</td>\n",
    "    <td>Name des Teams</td>\n",
    "  </tr>\n",
    "  <tr>\n",
    "    <td>NOC</td>\n",
    "    <td>Buchstabencode für das nationale olympische Committee der Athletin</td>\n",
    "  </tr>\n",
    "  <tr>\n",
    "    <td>Year</td>\n",
    "    <td>Integer</td>\n",
    "  </tr>\n",
    "  <tr>\n",
    "    <td>Season</td>\n",
    "    <td>Codiert als Summer oder Winter</td>\n",
    "  </tr>\n",
    "  <tr>\n",
    "    <td>City</td>\n",
    "    <td>Austragungsort</td>\n",
    "  </tr>\n",
    "  <tr>\n",
    "    <td>Sport</td>\n",
    "    <td>Sportart</td>\n",
    "  </tr>\n",
    "  <tr>\n",
    "    <td>Event</td>\n",
    "    <td>Bewerbsbeschreibung innerhalb der Sportart</td>\n",
    "  </tr>\n",
    "  <tr>\n",
    "    <td>Medal</td>\n",
    "    <td>Gold, Silver, Bronze oder NA (wenn Athletin keine Medaille gemacht hat in diesem Bewerb)</td>\n",
    "  </tr>\n",
    "</table>"
   ]
  },
  {
   "cell_type": "markdown",
   "id": "5979bf61",
   "metadata": {},
   "source": [
    "<hr>"
   ]
  },
  {
   "cell_type": "markdown",
   "id": "f899b498",
   "metadata": {},
   "source": [
    "<table>\n",
    "  <tr>\n",
    "      <td colspan=\"2\"><center><strong>noc_regions.csv</strong></center></td>\n",
    "  </tr>\n",
    "  <tr>\n",
    "    <td><strong>Spalte</strong></td>\n",
    "    <td><strong>Beschreibung</strong></td>\n",
    "  </tr>\n",
    "  <tr>\n",
    "    <td>NOC</td>\n",
    "    <td>Buchstabencode für das nationale olympische Committee der Athletin</td>\n",
    "  </tr>\n",
    "  <tr>\n",
    "    <td>Region</td>\n",
    "    <td>Länderbezeichnung</td>\n",
    "  </tr>\n",
    "  <tr>\n",
    "    <td>Notes</td>\n",
    "    <td>zusätzliche Informationen</td>\n",
    "  </tr>\n",
    "</table>"
   ]
  },
  {
   "cell_type": "markdown",
   "id": "6bd4cd6c",
   "metadata": {},
   "source": [
    "### Aufgabe 0:\n",
    "Nachdem wir uns mit den Spaltenbeschreibungen vertraut gemacht haben, lesen wir `athlete_events.csv` und `noc_regions.csv` per pandas in unser Notebook ein."
   ]
  },
  {
   "cell_type": "code",
   "execution_count": null,
   "id": "43288174",
   "metadata": {},
   "outputs": [],
   "source": []
  },
  {
   "cell_type": "markdown",
   "id": "10bf0f46",
   "metadata": {},
   "source": [
    "Alle folgenden Aufgaben können entweder mittels darstellen des gewünschten Ergebnisses in Form des DataFrames oder über das Generieren einer entsprechenden Abbildung gelöst werden."
   ]
  },
  {
   "cell_type": "markdown",
   "id": "66c505ee",
   "metadata": {},
   "source": [
    "### Aufgabe 1:\n",
    "Wieviele einzigartige Athletinnen sind aufgezeichnet?\n",
    "\n",
    "Bonusplot: Wieviele einzigartige Athletinnen aus einem beliebigen Land sind pro Jahr eingetragen?"
   ]
  },
  {
   "cell_type": "code",
   "execution_count": null,
   "id": "ef920653",
   "metadata": {},
   "outputs": [],
   "source": []
  },
  {
   "cell_type": "markdown",
   "id": "49761425",
   "metadata": {},
   "source": [
    "### Aufgabe 2:\n",
    "Wie hoch ist die Anzahl unterschiedlicher Sportarten?\n",
    "\n",
    "Bonusplot: An welchen Sportarten nahmen über die Jahre die meisten Athletinnen teil?"
   ]
  },
  {
   "cell_type": "code",
   "execution_count": null,
   "id": "de7b32de",
   "metadata": {},
   "outputs": [],
   "source": []
  },
  {
   "cell_type": "markdown",
   "id": "db2d9f48",
   "metadata": {},
   "source": [
    "### Aufgabe 3:\n",
    "Zeige die zehn schwersten sowie die zehn größten männlichen bzw. weiblichen Athletinnen.\n",
    "\n",
    "Bonusplot: Erstelle einen Scatterplot von Größe vs. Gewicht für alle Athletinnen (coloriert nach Geschlecht!) eines beliebigen Landes dar."
   ]
  },
  {
   "cell_type": "code",
   "execution_count": null,
   "id": "cb8e6ce9",
   "metadata": {},
   "outputs": [],
   "source": []
  },
  {
   "cell_type": "markdown",
   "id": "2f9e2c76",
   "metadata": {},
   "source": [
    "### Aufgabe 4:\n",
    "Wieviele unterschiedliche Bewerbe wurden erfasst?\n",
    "\n",
    "Bonusplot: Wie ist das Verhältnis unterschiedlicher Bewerbe bei Sommerspielen zu Winterspielen?"
   ]
  },
  {
   "cell_type": "code",
   "execution_count": null,
   "id": "231a6218",
   "metadata": {},
   "outputs": [],
   "source": []
  },
  {
   "cell_type": "markdown",
   "id": "5c861165",
   "metadata": {},
   "source": [
    "### Aufgabe 5:\n",
    "Wieviele weibliche Athletinnen nahmen bisher an den olympischen Spielen teil?\n",
    "\n",
    "Bonusplot: Hat sich die Anzahl der Teilnehmerinnen olympischer Spiele über die Jahre erhöht?"
   ]
  },
  {
   "cell_type": "code",
   "execution_count": null,
   "id": "49fbd0b8",
   "metadata": {},
   "outputs": [],
   "source": []
  },
  {
   "cell_type": "markdown",
   "id": "fca90b7a",
   "metadata": {},
   "source": [
    "### Aufgabe 6:\n",
    "Wieviele männliche Athleten nahmen bisher an den olympischen Spielen teil?\n",
    "\n",
    "Bonusplot: Wie sieht's mit der Anzahl der Teilnehmer olympischer Spiele über die Jahre aus?"
   ]
  },
  {
   "cell_type": "code",
   "execution_count": null,
   "id": "581fdb30",
   "metadata": {},
   "outputs": [],
   "source": []
  },
  {
   "cell_type": "markdown",
   "id": "2d3bbd24",
   "metadata": {},
   "source": [
    "### Aufgabe 7:\n",
    "Wieviele Länder haben  Athletinnen zu den olympischen Spielen geschickt?"
   ]
  },
  {
   "cell_type": "code",
   "execution_count": null,
   "id": "accae302",
   "metadata": {},
   "outputs": [],
   "source": []
  },
  {
   "cell_type": "markdown",
   "id": "e6ee3d8a",
   "metadata": {},
   "source": [
    "### Aufgabe 8:\n",
    "Wieviele unterschiedliche Austragungsorte sind eingetragen?"
   ]
  },
  {
   "cell_type": "code",
   "execution_count": null,
   "id": "44dfc2be",
   "metadata": {},
   "outputs": [],
   "source": []
  },
  {
   "cell_type": "markdown",
   "id": "1eccb867",
   "metadata": {},
   "source": [
    "### Aufgabe 9:\n",
    "Wieviele Athletinnen haben zumindest eine Medaille gewonnen?\n",
    "\n",
    "Bonusplot: Stelle die Verteilung der Größe und des Gewichts von Medaillengewinnerinnen in unterschiedlichen Sportarten als Boxplot dar."
   ]
  },
  {
   "cell_type": "code",
   "execution_count": null,
   "id": "a562a28e",
   "metadata": {},
   "outputs": [],
   "source": []
  },
  {
   "cell_type": "markdown",
   "id": "7bfd27c1",
   "metadata": {},
   "source": [
    "### Aufgabe 10:\n",
    "Welche Athletin hat die meisten Medaillen gewonnen?\n",
    "\n",
    "Bonus: Zeige die Anzahl jener Athletinnen, die mehr als eine Medaille gewonnen haben."
   ]
  },
  {
   "cell_type": "code",
   "execution_count": null,
   "id": "c04487eb",
   "metadata": {},
   "outputs": [],
   "source": []
  }
 ],
 "metadata": {
  "kernelspec": {
   "display_name": "Python 3 (ipykernel)",
   "language": "python",
   "name": "python3"
  },
  "language_info": {
   "codemirror_mode": {
    "name": "ipython",
    "version": 3
   },
   "file_extension": ".py",
   "mimetype": "text/x-python",
   "name": "python",
   "nbconvert_exporter": "python",
   "pygments_lexer": "ipython3",
   "version": "3.9.6"
  }
 },
 "nbformat": 4,
 "nbformat_minor": 5
}
