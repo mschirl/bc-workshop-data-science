{
 "cells": [
  {
   "cell_type": "markdown",
   "metadata": {},
   "source": [
    "# Komplexe Modelle und Deployment\n",
    "\n",
    "In der abschließenden Veranstaltung unterhalten wir uns über einen kleinen Teilbereich der Konzepte rund um neuronale Netze.\n",
    "Als Anwendungsfall soll die Klassifizierung von Bildern handschriftlich aufgezeichneter Zahlen (0-9) dienen. So ist es das Ziel dieser Einheit, ein neuronales Netz, in der Folge auch **Multilayer Perceptron (MLP)** genannt, zu designen, zu trainieren und dessen Performance anhand ungesehener Daten zu evaluieren. In einem separaten Pythonfile wird zusätzlich gezeigt, wie Teile der Funktionalität dieses Netzes an REST-Schnittstellen angebunden werden können, um ein Netz dieser Art flexibel einsetzbar zu machen.\n",
    "\n",
    "### Datensatz\n",
    "Wie bereits kurz in der Einführung erwähnt, handelt es sich beim verwendeten Datensatz um digitales Bildmaterial handschriftlich verfasster Zahlen, die im Original auf 28x28 Pixel gebannt wurden. In der Welt des maschinellen Lernens und der Bildverarbeitung ist dieses Datenset unter dem Namen [MNIST](http://yann.lecun.com/exdb/mnist/) bekannt und weit verbreitet wenn es um das Design bzw. den Test verschiedenster Bildverarbeitungsalgorithmen geht.\n",
    "<br>\n",
    "<br>\n",
    "<center><img src=\"../resources/images/mnist.png\" style=\"width: 75%\"/></center>\n",
    "<center>Fig. 1: <a href=\"https://towardsdatascience.com/improving-accuracy-on-mnist-using-data-augmentation-b5c38eb5a903\">towardsdatascience.com</a></center>\n",
    "<br>\n",
    "<br>\n",
    "\n",
    "Um die Verarbeitungszeit zu verkürzen, wird in diesem Beispielnotebook jedoch eine leicht vereinfachte Version dieser Bilddatenbank verwendet. Diese Datenbank ist [direkt in scikit-learn verfügbar](https://scikit-learn.org/stable/modules/generated/sklearn.datasets.load_digits.html) und enthält Bildmaterial, das auf eine Bildgröße von 8x8 skaliert wurde.\n",
    "\n",
    "\n",
    "### Toolbox\n",
    "Das Werkzeug zur Erstellung unseres neuronalen Netzes entnehmen wir den Bibliotheken [Keras](https://keras.io/api/) und [TensorFlow](https://www.tensorflow.org/api_docs/python/tf). Seit Version 2.0 von Keras wird diese beliebte Abstraktionsschicht für den Umgang mit Modellen bei der Installation von Tensorflow direkt mitgeliefert. Eine korrekte [Installation](https://www.tensorflow.org/install) der Bibliotheken innerhalb des aktuellen Pythonenvironments, in dem auch dieses Jupyter Notebook gestartet wurde, kann durch das Ausführen folgender Befehlen verifiziert werden:"
   ]
  },
  {
   "cell_type": "code",
   "execution_count": 1,
   "metadata": {
    "pycharm": {
     "name": "#%%\n"
    }
   },
   "outputs": [
    {
     "name": "stdout",
     "output_type": "stream",
     "text": [
      "Keras: 2.6.0\n",
      "TensorFlow: 2.6.0\n"
     ]
    }
   ],
   "source": [
    "import keras as k\n",
    "import tensorflow as tf\n",
    "print(f'Keras: {k.__version__}')\n",
    "print(f'TensorFlow: {tf.__version__}')"
   ]
  },
  {
   "cell_type": "markdown",
   "metadata": {},
   "source": [
    "### Das neuronale Netz\n",
    "<br>\n",
    "<br>\n",
    "<br>\n",
    "<br>\n",
    "<center><img src=\"../resources/images/neural_network_0.png\" style=\"width: 75%\"/></center>\n",
    "<center>Fig. 2: <a href=\"https://www.researchgate.net/publication/303875065_ASSESSMENT_OF_ARTIFICIAL_NEURAL_NETWORK_FOR_BATHYMETRY_ESTIMATION_USING_HIGH_RESOLUTION_SATELLITE_IMAGERY_IN_SHALLOW_LAKES_CASE_STUDY_EL_BURULLUS_LAKE\">researchgate.net</a></center>\n",
    "<br>\n",
    "<br>\n",
    "Die grundsätzliche Funktionsweise eines neuronalen Netzes, bestehend aus mehreren Schichten sog. Perzeptronen, illustriert Fig. 2. Eine genauere Erklärung dieser Grafik, sowie der Grafik aus Fig. 3, folgt während des Workshops.\n",
    "\n",
    "<br>\n",
    "<br>\n",
    "<center><img src=\"../resources/images/neural_network_1.png\" style=\"width: 75%\"/></center>\n",
    "<center>Fig. 3: <a href=\"https://towardsdatascience.com/image-classification-in-10-minutes-with-mnist-dataset-54c35b77a38d\">towardsdatascience.com</a></center>\n",
    "\n"
   ]
  },
  {
   "cell_type": "code",
   "execution_count": 2,
   "metadata": {
    "pycharm": {
     "name": "#%%\n"
    }
   },
   "outputs": [],
   "source": [
    "import numpy as np\n",
    "import matplotlib.pyplot as plt\n",
    "\n",
    "%matplotlib inline \n",
    "from sklearn.metrics import confusion_matrix, classification_report\n",
    "from sklearn.model_selection import train_test_split, learning_curve, StratifiedKFold\n",
    "import os\n",
    "from keras.models import Sequential\n",
    "from keras.layers import Dense, Input\n",
    "from sklearn.datasets import load_digits\n",
    "import itertools\n",
    "os.environ['TF_CPP_MIN_LOG_LEVEL'] = '3' "
   ]
  },
  {
   "cell_type": "code",
   "execution_count": 3,
   "metadata": {
    "pycharm": {
     "name": "#%%\n"
    }
   },
   "outputs": [],
   "source": [
    "def plot_confusion_matrix(cm, classes,\n",
    "                          normalize=False,\n",
    "                          title='Confusion matrix',\n",
    "                          cmap=plt.cm.Blues):\n",
    "    \"\"\"\n",
    "    This function prints and plots the confusion matrix.\n",
    "    Normalization can be applied by setting `normalize=True`.\n",
    "    \"\"\"\n",
    "    fig = plt.figure(figsize=(10, 10))\n",
    "\n",
    "    if normalize:\n",
    "        cm = cm.astype('float') / cm.sum(axis=1)[:, np.newaxis]\n",
    "        cm = np.around(cm, decimals=3, out=None)  \n",
    "    \n",
    "    \n",
    "    thresh = cm.max() / 2.\n",
    "    \n",
    "    plt.imshow(cm, interpolation='nearest', cmap=cmap)\n",
    "    \n",
    "    plt.title(title)\n",
    "    plt.colorbar()\n",
    "    tick_marks = np.arange(len(classes))\n",
    "    plt.xticks(tick_marks, classes, rotation=45)\n",
    "    plt.yticks(tick_marks, classes)\n",
    "\n",
    "    for i, j in itertools.product(range(cm.shape[0]), range(cm.shape[1])):\n",
    "        plt.text(j, i, cm[i, j],\n",
    "                 horizontalalignment=\"center\",\n",
    "                 color=\"white\" if cm[i, j] > thresh else \"black\")\n",
    "\n",
    "    fig.tight_layout()\n",
    "    plt.ylabel('True label')\n",
    "    plt.xlabel('Predicted label')"
   ]
  },
  {
   "cell_type": "code",
   "execution_count": 4,
   "metadata": {
    "pycharm": {
     "name": "#%%\n"
    }
   },
   "outputs": [],
   "source": [
    "# Simple function that plots loss over epochs and accuracy over epochs (for both train and validation set).\n",
    "# Also adds a marker for the epoch, where early stopping should be performed if the appropriate index is passed\n",
    "def plot_learning_curve_over_epochs(history = None, early_stopping = None):\n",
    "    fig = plt.figure(figsize=(12, 10), dpi=80)\n",
    "    plt.subplot(2, 1, 1)\n",
    "    plt.plot(history.history['loss'])\n",
    "    plt.plot(history.history['val_loss'])\n",
    "    plt.title('Loss Curves')\n",
    "    plt.ylabel('Loss')\n",
    "    plt.xlabel('Epoch')\n",
    "    plt.legend(['Train Loss', 'Validation Loss'], loc='best')\n",
    "    if early_stopping:\n",
    "        plt.axvline(x=early_stopping+1, color='r', linestyle='-', label=\"Early Stopping: \"+str(early_stopping+1))\n",
    "    \n",
    "    \n",
    "    plt.subplot(2, 1, 2)\n",
    "    plt.plot(history.history['acc'])\n",
    "    plt.plot(history.history['val_acc'])\n",
    "    plt.title('Accuracy Curves')\n",
    "    plt.ylabel('Accuracy')\n",
    "    plt.xlabel('Epoch')\n",
    "    plt.legend(['Train Accuracy', 'Validation Accuracy'], loc='best')\n",
    "    if early_stopping:\n",
    "        plt.axvline(x=early_stopping+1, color='r', linestyle='-', label=\"Early Stopping: \"+str(early_stopping+1))\n",
    "    \n",
    "    plt.show()"
   ]
  },
  {
   "cell_type": "markdown",
   "metadata": {},
   "source": [
    "### Laden des Datensatzes\n",
    "Folgender Codeabschnitt kümmert sich um das Laden der Bilddaten (abgespeichert in **X**) und der dazu korrespondierenden Labels (abgelegt in **y**).\n",
    "\n",
    "Außerdem wird ausgegeben, wieviele Bilder insgesamt im Datensatz vorhanden sind, und dazu zehn Beispielbilder im Notebook festgehalten."
   ]
  },
  {
   "cell_type": "code",
   "execution_count": 41,
   "metadata": {
    "pycharm": {
     "name": "#%%\n"
    }
   },
   "outputs": [
    {
     "name": "stdout",
     "output_type": "stream",
     "text": [
      "Anzahl der Bilder:\t1797\n",
      "\n",
      "Erste 10 Bilder des Datensatzes:\n"
     ]
    },
    {
     "data": {
      "image/png": "[encoded data removed]",
      "text/plain": [
       "<Figure size 432x288 with 10 Axes>"
      ]
     },
     "metadata": {
      "needs_background": "light"
     },
     "output_type": "display_data"
    }
   ],
   "source": [
    "digits = load_digits()\n",
    "X, y = digits.images, digits.target\n",
    "\n",
    "print(f\"Anzahl der Bilder:\\t{len(X)}\")\n",
    "\n",
    "images_to_print = 10\n",
    "print(f\"\\nErste {images_to_print} Bilder des Datensatzes:\")\n",
    "for i,image in enumerate(X):\n",
    "    if i < images_to_print:\n",
    "        plt.subplot(1, images_to_print, i+1)\n",
    "        plt.axis('off')\n",
    "        plt.imshow(image, cmap=plt.cm.gray_r, interpolation='nearest')"
   ]
  },
  {
   "cell_type": "markdown",
   "metadata": {},
   "source": [
    "### Vorverarbeitung der Daten\n",
    "Einfache neuronale Netze setzen es voraus, Daten in Form eines Vektors übergeben zu bekommen (vgl. Fig. 2 Input #1 - Input #4). Außerdem kann es für die Verarbeitung von Grauwertbildern ratsam sein, Grauwerte in Prozentzahlen anzugeben.\n",
    "\n",
    "Darüber hinaus ist es notwendig, die Labels der einzelnen Bilder so zu codieren, dass für jedes Bild ein Label in Form eines One-Hot-Vectors vorliegt. Dieser Umstand ergibt sich aus der Eigenschaft unseres Beispielnetzes, Pseudowahrscheinlichkeiten für die möglichen Klassen eines Bildes (0-9) zu errechnen (vgl. Gaussian Naive Bayes Classifier). Diese Pseudowahrscheinlichkeiten gilt es im letzten Schritt der Klassifizierung, also im Teil der Netzperformanceevaluierung, zu den finalen Prädiktionen des Netzes zu konvertieren.\n",
    "\n",
    "Abschließend dürfen wir natürlich nicht vergessen, einen Teil unseres Datensatzes (**X_test** und **y_test**) für die eben angesprochene finale Evaluierung der Modellperformance beiseite zu legen."
   ]
  },
  {
   "cell_type": "code",
   "execution_count": 42,
   "metadata": {},
   "outputs": [
    {
     "data": {
      "text/plain": [
       "(1797, 8, 8)"
      ]
     },
     "execution_count": 42,
     "metadata": {},
     "output_type": "execute_result"
    }
   ],
   "source": [
    "X.shape"
   ]
  },
  {
   "cell_type": "code",
   "execution_count": 43,
   "metadata": {
    "scrolled": true
   },
   "outputs": [
    {
     "data": {
      "image/png": "[encoded data removed]",
      "text/plain": [
       "<Figure size 432x288 with 1 Axes>"
      ]
     },
     "metadata": {
      "needs_background": "light"
     },
     "output_type": "display_data"
    }
   ],
   "source": [
    "plt.figure()\n",
    "plt.imshow(X[0], cmap=plt.cm.gray_r, interpolation='nearest')\n",
    "plt.show()"
   ]
  },
  {
   "cell_type": "code",
   "execution_count": 44,
   "metadata": {},
   "outputs": [],
   "source": [
    "X = X.reshape(X.shape[0], X.shape[1] * X.shape[2])"
   ]
  },
  {
   "cell_type": "code",
   "execution_count": 45,
   "metadata": {},
   "outputs": [],
   "source": [
    "X = X / np.amax(X)"
   ]
  },
  {
   "cell_type": "code",
   "execution_count": 46,
   "metadata": {
    "scrolled": true
   },
   "outputs": [
    {
     "data": {
      "text/plain": [
       "array([0.    , 0.    , 0.3125, 0.8125, 0.5625, 0.0625, 0.    , 0.    ,\n",
       "       0.    , 0.    , 0.8125, 0.9375, 0.625 , 0.9375, 0.3125, 0.    ,\n",
       "       0.    , 0.1875, 0.9375, 0.125 , 0.    , 0.6875, 0.5   , 0.    ,\n",
       "       0.    , 0.25  , 0.75  , 0.    , 0.    , 0.5   , 0.5   , 0.    ,\n",
       "       0.    , 0.3125, 0.5   , 0.    , 0.    , 0.5625, 0.5   , 0.    ,\n",
       "       0.    , 0.25  , 0.6875, 0.    , 0.0625, 0.75  , 0.4375, 0.    ,\n",
       "       0.    , 0.125 , 0.875 , 0.3125, 0.625 , 0.75  , 0.    , 0.    ,\n",
       "       0.    , 0.    , 0.375 , 0.8125, 0.625 , 0.    , 0.    , 0.    ])"
      ]
     },
     "execution_count": 46,
     "metadata": {},
     "output_type": "execute_result"
    }
   ],
   "source": [
    "X[0]"
   ]
  },
  {
   "cell_type": "code",
   "execution_count": 51,
   "metadata": {},
   "outputs": [
    {
     "data": {
      "text/plain": [
       "array([0, 1, 2, ..., 8, 9, 8])"
      ]
     },
     "execution_count": 51,
     "metadata": {},
     "output_type": "execute_result"
    }
   ],
   "source": [
    "y"
   ]
  },
  {
   "cell_type": "code",
   "execution_count": 52,
   "metadata": {},
   "outputs": [
    {
     "data": {
      "text/plain": [
       "{0, 1, 2, 3, 4, 5, 6, 7, 8, 9}"
      ]
     },
     "execution_count": 52,
     "metadata": {},
     "output_type": "execute_result"
    }
   ],
   "source": [
    "set(y)"
   ]
  },
  {
   "cell_type": "code",
   "execution_count": 53,
   "metadata": {},
   "outputs": [
    {
     "data": {
      "text/plain": [
       "(1797,)"
      ]
     },
     "execution_count": 53,
     "metadata": {},
     "output_type": "execute_result"
    }
   ],
   "source": [
    "y.shape"
   ]
  },
  {
   "cell_type": "code",
   "execution_count": 54,
   "metadata": {},
   "outputs": [],
   "source": [
    "y = tf.keras.utils.to_categorical(y)"
   ]
  },
  {
   "cell_type": "code",
   "execution_count": 55,
   "metadata": {},
   "outputs": [
    {
     "data": {
      "text/plain": [
       "array([[1., 0., 0., ..., 0., 0., 0.],\n",
       "       [0., 1., 0., ..., 0., 0., 0.],\n",
       "       [0., 0., 1., ..., 0., 0., 0.],\n",
       "       ...,\n",
       "       [0., 0., 0., ..., 0., 1., 0.],\n",
       "       [0., 0., 0., ..., 0., 0., 1.],\n",
       "       [0., 0., 0., ..., 0., 1., 0.]], dtype=float32)"
      ]
     },
     "execution_count": 55,
     "metadata": {},
     "output_type": "execute_result"
    }
   ],
   "source": [
    "y"
   ]
  },
  {
   "cell_type": "code",
   "execution_count": 66,
   "metadata": {},
   "outputs": [],
   "source": [
    "X_train, X_test, y_train, y_test = train_test_split(X, y, test_size=0.2, random_state=42, stratify=y)"
   ]
  },
  {
   "cell_type": "markdown",
   "metadata": {},
   "source": [
    "### Konfiguration eines neuronalen Netzes\n",
    "\n",
    "Nachdem der Schritt der Datenvorverarbeitung nun abgeschlossen ist, kümmern wir uns um die Konfiguration unseres neuronalen Netzes. In unserem Beispiel ist es zwingend erforderlich, folgende Parameter zu setzen:\n",
    "\n",
    "- Dimensionalität der **Input-Schicht**\n",
    "- Dimensionalität des **Output-Schicht**\n",
    "- **Anzahl der verborgenen Schichten** im neuronalen Netz\n",
    "- Anzahl der **Perzeptronen pro verborgener Schicht**\n",
    "- Wahl der **Übertragungsfunktion** pro verborgener Schicht und für die Output-Schicht\n",
    "- Wahl einer **loss function** (zu dt. \"Verlustfunktion\") und eines sog. **optimizers**, die zur Minimierung des Fehlers verwendet werden."
   ]
  },
  {
   "cell_type": "code",
   "execution_count": 83,
   "metadata": {},
   "outputs": [],
   "source": [
    "input_dim = X.shape[1]\n",
    "output_dim = y.shape[1]"
   ]
  },
  {
   "cell_type": "code",
   "execution_count": 84,
   "metadata": {},
   "outputs": [],
   "source": [
    "model = Sequential()\n",
    "model.add(Input(shape=input_dim, name='Input_Layer'))\n",
    "model.add(Dense(32, activation='relu', name='Hidden_Layer_0'))\n",
    "model.add(Dense(16, activation='relu', name='Hidden_Layer_1'))\n",
    "model.add(Dense(output_dim, activation='softmax', name='Output_Layer'))"
   ]
  },
  {
   "cell_type": "code",
   "execution_count": 85,
   "metadata": {},
   "outputs": [],
   "source": [
    "model.compile(loss='categorical_crossentropy',\n",
    "              optimizer='adam',\n",
    "              metrics=['acc']\n",
    "             )"
   ]
  },
  {
   "cell_type": "code",
   "execution_count": 86,
   "metadata": {},
   "outputs": [
    {
     "name": "stdout",
     "output_type": "stream",
     "text": [
      "Model: \"sequential_3\"\n",
      "_________________________________________________________________\n",
      "Layer (type)                 Output Shape              Param #   \n",
      "=================================================================\n",
      "Hidden_Layer_0 (Dense)       (None, 32)                2080      \n",
      "_________________________________________________________________\n",
      "Hidden_Layer_1 (Dense)       (None, 16)                528       \n",
      "_________________________________________________________________\n",
      "Output_Layer (Dense)         (None, 10)                170       \n",
      "=================================================================\n",
      "Total params: 2,778\n",
      "Trainable params: 2,778\n",
      "Non-trainable params: 0\n",
      "_________________________________________________________________\n"
     ]
    }
   ],
   "source": [
    "model.summary()"
   ]
  },
  {
   "cell_type": "markdown",
   "metadata": {},
   "source": [
    "### Trainieren des Modells\n",
    "Wie bereits aus dem letzten Workshop bekannt, startet ein Aufruf der Methode `fit()` eines Modells das Training.\n",
    "Die Untersuchung des Trainingsfortschritts erfolgt auf Basis der sog. \"Learning Curve\", welche aus dem Rückgabewert der Methode `fit()`. Diese Kurve kann über die in diesem Notebook eigens dafür definierte Funktion `plot_learning_curve_over_epochs()` gezeichnet werden."
   ]
  },
  {
   "cell_type": "code",
   "execution_count": 87,
   "metadata": {},
   "outputs": [
    {
     "name": "stdout",
     "output_type": "stream",
     "text": [
      "Epoch 1/200\n",
      "8/8 [==============================] - 0s 15ms/step - loss: 2.3182 - acc: 0.0746 - val_loss: 2.2890 - val_acc: 0.1157\n",
      "Epoch 2/200\n",
      "8/8 [==============================] - 0s 3ms/step - loss: 2.2699 - acc: 0.1642 - val_loss: 2.2414 - val_acc: 0.1806\n",
      "Epoch 3/200\n",
      "8/8 [==============================] - 0s 3ms/step - loss: 2.2178 - acc: 0.2796 - val_loss: 2.1834 - val_acc: 0.2778\n",
      "Epoch 4/200\n",
      "8/8 [==============================] - 0s 3ms/step - loss: 2.1601 - acc: 0.3731 - val_loss: 2.1142 - val_acc: 0.3958\n",
      "Epoch 5/200\n",
      "8/8 [==============================] - 0s 3ms/step - loss: 2.0886 - acc: 0.4428 - val_loss: 2.0391 - val_acc: 0.4468\n",
      "Epoch 6/200\n",
      "8/8 [==============================] - 0s 3ms/step - loss: 2.0084 - acc: 0.4915 - val_loss: 1.9584 - val_acc: 0.4815\n",
      "Epoch 7/200\n",
      "8/8 [==============================] - 0s 3ms/step - loss: 1.9235 - acc: 0.5124 - val_loss: 1.8733 - val_acc: 0.5093\n",
      "Epoch 8/200\n",
      "8/8 [==============================] - 0s 3ms/step - loss: 1.8309 - acc: 0.5353 - val_loss: 1.7796 - val_acc: 0.5370\n",
      "Epoch 9/200\n",
      "8/8 [==============================] - 0s 3ms/step - loss: 1.7321 - acc: 0.5791 - val_loss: 1.6828 - val_acc: 0.5856\n",
      "Epoch 10/200\n",
      "8/8 [==============================] - 0s 3ms/step - loss: 1.6293 - acc: 0.6199 - val_loss: 1.5816 - val_acc: 0.6273\n",
      "Epoch 11/200\n",
      "8/8 [==============================] - 0s 3ms/step - loss: 1.5235 - acc: 0.6647 - val_loss: 1.4786 - val_acc: 0.6551\n",
      "Epoch 12/200\n",
      "8/8 [==============================] - 0s 3ms/step - loss: 1.4167 - acc: 0.7184 - val_loss: 1.3762 - val_acc: 0.7014\n",
      "Epoch 13/200\n",
      "8/8 [==============================] - 0s 3ms/step - loss: 1.3113 - acc: 0.7562 - val_loss: 1.2662 - val_acc: 0.7384\n",
      "Epoch 14/200\n",
      "8/8 [==============================] - 0s 3ms/step - loss: 1.2057 - acc: 0.7821 - val_loss: 1.1585 - val_acc: 0.7731\n",
      "Epoch 15/200\n",
      "8/8 [==============================] - 0s 3ms/step - loss: 1.1028 - acc: 0.8119 - val_loss: 1.0644 - val_acc: 0.8032\n",
      "Epoch 16/200\n",
      "8/8 [==============================] - 0s 3ms/step - loss: 1.0086 - acc: 0.8279 - val_loss: 0.9726 - val_acc: 0.8380\n",
      "Epoch 17/200\n",
      "8/8 [==============================] - 0s 3ms/step - loss: 0.9224 - acc: 0.8448 - val_loss: 0.8841 - val_acc: 0.8542\n",
      "Epoch 18/200\n",
      "8/8 [==============================] - 0s 3ms/step - loss: 0.8424 - acc: 0.8547 - val_loss: 0.7993 - val_acc: 0.8681\n",
      "Epoch 19/200\n",
      "8/8 [==============================] - 0s 3ms/step - loss: 0.7686 - acc: 0.8687 - val_loss: 0.7200 - val_acc: 0.8796\n",
      "Epoch 20/200\n",
      "8/8 [==============================] - 0s 3ms/step - loss: 0.7011 - acc: 0.8786 - val_loss: 0.6560 - val_acc: 0.8958\n",
      "Epoch 21/200\n",
      "8/8 [==============================] - 0s 3ms/step - loss: 0.6401 - acc: 0.8826 - val_loss: 0.5910 - val_acc: 0.8935\n",
      "Epoch 22/200\n",
      "8/8 [==============================] - 0s 3ms/step - loss: 0.5864 - acc: 0.8915 - val_loss: 0.5401 - val_acc: 0.9005\n",
      "Epoch 23/200\n",
      "8/8 [==============================] - 0s 3ms/step - loss: 0.5395 - acc: 0.9025 - val_loss: 0.4987 - val_acc: 0.9074\n",
      "Epoch 24/200\n",
      "8/8 [==============================] - 0s 3ms/step - loss: 0.4999 - acc: 0.9104 - val_loss: 0.4574 - val_acc: 0.9120\n",
      "Epoch 25/200\n",
      "8/8 [==============================] - 0s 3ms/step - loss: 0.4666 - acc: 0.9134 - val_loss: 0.4233 - val_acc: 0.9213\n",
      "Epoch 26/200\n",
      "8/8 [==============================] - 0s 3ms/step - loss: 0.4368 - acc: 0.9164 - val_loss: 0.3989 - val_acc: 0.9259\n",
      "Epoch 27/200\n",
      "8/8 [==============================] - 0s 3ms/step - loss: 0.4100 - acc: 0.9194 - val_loss: 0.3726 - val_acc: 0.9282\n",
      "Epoch 28/200\n",
      "8/8 [==============================] - 0s 3ms/step - loss: 0.3871 - acc: 0.9224 - val_loss: 0.3527 - val_acc: 0.9352\n",
      "Epoch 29/200\n",
      "8/8 [==============================] - 0s 3ms/step - loss: 0.3663 - acc: 0.9214 - val_loss: 0.3307 - val_acc: 0.9375\n",
      "Epoch 30/200\n",
      "8/8 [==============================] - 0s 3ms/step - loss: 0.3481 - acc: 0.9244 - val_loss: 0.3170 - val_acc: 0.9398\n",
      "Epoch 31/200\n",
      "8/8 [==============================] - 0s 4ms/step - loss: 0.3312 - acc: 0.9244 - val_loss: 0.3008 - val_acc: 0.9398\n",
      "Epoch 32/200\n",
      "8/8 [==============================] - 0s 3ms/step - loss: 0.3169 - acc: 0.9284 - val_loss: 0.2830 - val_acc: 0.9491\n",
      "Epoch 33/200\n",
      "8/8 [==============================] - 0s 3ms/step - loss: 0.3018 - acc: 0.9284 - val_loss: 0.2704 - val_acc: 0.9514\n",
      "Epoch 34/200\n",
      "8/8 [==============================] - 0s 3ms/step - loss: 0.2910 - acc: 0.9343 - val_loss: 0.2628 - val_acc: 0.9491\n",
      "Epoch 35/200\n",
      "8/8 [==============================] - 0s 3ms/step - loss: 0.2792 - acc: 0.9323 - val_loss: 0.2492 - val_acc: 0.9583\n",
      "Epoch 36/200\n",
      "8/8 [==============================] - 0s 3ms/step - loss: 0.2688 - acc: 0.9363 - val_loss: 0.2409 - val_acc: 0.9560\n",
      "Epoch 37/200\n",
      "8/8 [==============================] - 0s 3ms/step - loss: 0.2591 - acc: 0.9403 - val_loss: 0.2339 - val_acc: 0.9560\n",
      "Epoch 38/200\n",
      "8/8 [==============================] - 0s 3ms/step - loss: 0.2495 - acc: 0.9403 - val_loss: 0.2209 - val_acc: 0.9606\n",
      "Epoch 39/200\n",
      "8/8 [==============================] - 0s 3ms/step - loss: 0.2408 - acc: 0.9423 - val_loss: 0.2136 - val_acc: 0.9583\n",
      "Epoch 40/200\n",
      "8/8 [==============================] - 0s 3ms/step - loss: 0.2331 - acc: 0.9423 - val_loss: 0.2092 - val_acc: 0.9630\n",
      "Epoch 41/200\n",
      "8/8 [==============================] - 0s 3ms/step - loss: 0.2256 - acc: 0.9463 - val_loss: 0.2007 - val_acc: 0.9653\n",
      "Epoch 42/200\n",
      "8/8 [==============================] - 0s 3ms/step - loss: 0.2178 - acc: 0.9493 - val_loss: 0.1948 - val_acc: 0.9653\n",
      "Epoch 43/200\n",
      "8/8 [==============================] - 0s 3ms/step - loss: 0.2111 - acc: 0.9493 - val_loss: 0.1878 - val_acc: 0.9676\n",
      "Epoch 44/200\n",
      "8/8 [==============================] - 0s 3ms/step - loss: 0.2056 - acc: 0.9522 - val_loss: 0.1821 - val_acc: 0.9699\n",
      "Epoch 45/200\n",
      "8/8 [==============================] - 0s 3ms/step - loss: 0.1994 - acc: 0.9522 - val_loss: 0.1781 - val_acc: 0.9676\n",
      "Epoch 46/200\n",
      "8/8 [==============================] - 0s 3ms/step - loss: 0.1940 - acc: 0.9542 - val_loss: 0.1725 - val_acc: 0.9653\n",
      "Epoch 47/200\n",
      "8/8 [==============================] - 0s 3ms/step - loss: 0.1894 - acc: 0.9552 - val_loss: 0.1716 - val_acc: 0.9676\n",
      "Epoch 48/200\n",
      "8/8 [==============================] - 0s 3ms/step - loss: 0.1845 - acc: 0.9552 - val_loss: 0.1683 - val_acc: 0.9676\n",
      "Epoch 49/200\n",
      "8/8 [==============================] - 0s 3ms/step - loss: 0.1791 - acc: 0.9572 - val_loss: 0.1573 - val_acc: 0.9699\n",
      "Epoch 50/200\n",
      "8/8 [==============================] - 0s 3ms/step - loss: 0.1754 - acc: 0.9582 - val_loss: 0.1553 - val_acc: 0.9653\n",
      "Epoch 51/200\n",
      "8/8 [==============================] - 0s 3ms/step - loss: 0.1701 - acc: 0.9592 - val_loss: 0.1540 - val_acc: 0.9699\n",
      "Epoch 52/200\n",
      "8/8 [==============================] - 0s 3ms/step - loss: 0.1661 - acc: 0.9602 - val_loss: 0.1519 - val_acc: 0.9722\n",
      "Epoch 53/200\n",
      "8/8 [==============================] - 0s 3ms/step - loss: 0.1628 - acc: 0.9602 - val_loss: 0.1464 - val_acc: 0.9722\n",
      "Epoch 54/200\n",
      "8/8 [==============================] - 0s 3ms/step - loss: 0.1588 - acc: 0.9622 - val_loss: 0.1440 - val_acc: 0.9699\n",
      "Epoch 55/200\n",
      "8/8 [==============================] - 0s 3ms/step - loss: 0.1549 - acc: 0.9632 - val_loss: 0.1389 - val_acc: 0.9722\n",
      "Epoch 56/200\n",
      "8/8 [==============================] - 0s 3ms/step - loss: 0.1512 - acc: 0.9642 - val_loss: 0.1400 - val_acc: 0.9699\n",
      "Epoch 57/200\n",
      "8/8 [==============================] - 0s 3ms/step - loss: 0.1476 - acc: 0.9652 - val_loss: 0.1344 - val_acc: 0.9769\n",
      "Epoch 58/200\n",
      "8/8 [==============================] - 0s 3ms/step - loss: 0.1441 - acc: 0.9642 - val_loss: 0.1303 - val_acc: 0.9769\n",
      "Epoch 59/200\n",
      "8/8 [==============================] - 0s 3ms/step - loss: 0.1411 - acc: 0.9652 - val_loss: 0.1316 - val_acc: 0.9699\n",
      "Epoch 60/200\n",
      "8/8 [==============================] - 0s 3ms/step - loss: 0.1379 - acc: 0.9662 - val_loss: 0.1265 - val_acc: 0.9722\n",
      "Epoch 61/200\n",
      "8/8 [==============================] - 0s 3ms/step - loss: 0.1354 - acc: 0.9692 - val_loss: 0.1263 - val_acc: 0.9722\n",
      "Epoch 62/200\n",
      "8/8 [==============================] - 0s 3ms/step - loss: 0.1324 - acc: 0.9692 - val_loss: 0.1240 - val_acc: 0.9745\n",
      "Epoch 63/200\n",
      "8/8 [==============================] - 0s 3ms/step - loss: 0.1291 - acc: 0.9711 - val_loss: 0.1197 - val_acc: 0.9792\n",
      "Epoch 64/200\n"
     ]
    },
    {
     "name": "stdout",
     "output_type": "stream",
     "text": [
      "8/8 [==============================] - 0s 3ms/step - loss: 0.1272 - acc: 0.9692 - val_loss: 0.1189 - val_acc: 0.9792\n",
      "Epoch 65/200\n",
      "8/8 [==============================] - 0s 3ms/step - loss: 0.1246 - acc: 0.9721 - val_loss: 0.1204 - val_acc: 0.9722\n",
      "Epoch 66/200\n",
      "8/8 [==============================] - 0s 3ms/step - loss: 0.1225 - acc: 0.9741 - val_loss: 0.1150 - val_acc: 0.9769\n",
      "Epoch 67/200\n",
      "8/8 [==============================] - 0s 3ms/step - loss: 0.1195 - acc: 0.9701 - val_loss: 0.1162 - val_acc: 0.9769\n",
      "Epoch 68/200\n",
      "8/8 [==============================] - 0s 3ms/step - loss: 0.1167 - acc: 0.9731 - val_loss: 0.1142 - val_acc: 0.9745\n",
      "Epoch 69/200\n",
      "8/8 [==============================] - 0s 3ms/step - loss: 0.1148 - acc: 0.9751 - val_loss: 0.1099 - val_acc: 0.9792\n",
      "Epoch 70/200\n",
      "8/8 [==============================] - 0s 3ms/step - loss: 0.1122 - acc: 0.9741 - val_loss: 0.1101 - val_acc: 0.9769\n",
      "Epoch 71/200\n",
      "8/8 [==============================] - 0s 3ms/step - loss: 0.1101 - acc: 0.9761 - val_loss: 0.1082 - val_acc: 0.9769\n",
      "Epoch 72/200\n",
      "8/8 [==============================] - 0s 3ms/step - loss: 0.1077 - acc: 0.9771 - val_loss: 0.1083 - val_acc: 0.9769\n",
      "Epoch 73/200\n",
      "8/8 [==============================] - 0s 3ms/step - loss: 0.1051 - acc: 0.9781 - val_loss: 0.1061 - val_acc: 0.9769\n",
      "Epoch 74/200\n",
      "8/8 [==============================] - 0s 3ms/step - loss: 0.1043 - acc: 0.9761 - val_loss: 0.1027 - val_acc: 0.9792\n",
      "Epoch 75/200\n",
      "8/8 [==============================] - 0s 3ms/step - loss: 0.1017 - acc: 0.9761 - val_loss: 0.1043 - val_acc: 0.9769\n",
      "Epoch 76/200\n",
      "8/8 [==============================] - 0s 3ms/step - loss: 0.1002 - acc: 0.9781 - val_loss: 0.1034 - val_acc: 0.9769\n",
      "Epoch 77/200\n",
      "8/8 [==============================] - 0s 3ms/step - loss: 0.0986 - acc: 0.9771 - val_loss: 0.1008 - val_acc: 0.9792\n",
      "Epoch 78/200\n",
      "8/8 [==============================] - 0s 3ms/step - loss: 0.0964 - acc: 0.9791 - val_loss: 0.0994 - val_acc: 0.9792\n",
      "Epoch 79/200\n",
      "8/8 [==============================] - 0s 3ms/step - loss: 0.0949 - acc: 0.9811 - val_loss: 0.0987 - val_acc: 0.9815\n",
      "Epoch 80/200\n",
      "8/8 [==============================] - 0s 3ms/step - loss: 0.0935 - acc: 0.9811 - val_loss: 0.0980 - val_acc: 0.9792\n",
      "Epoch 81/200\n",
      "8/8 [==============================] - 0s 3ms/step - loss: 0.0911 - acc: 0.9811 - val_loss: 0.0971 - val_acc: 0.9792\n",
      "Epoch 82/200\n",
      "8/8 [==============================] - 0s 3ms/step - loss: 0.0904 - acc: 0.9801 - val_loss: 0.0965 - val_acc: 0.9792\n",
      "Epoch 83/200\n",
      "8/8 [==============================] - 0s 3ms/step - loss: 0.0883 - acc: 0.9831 - val_loss: 0.0935 - val_acc: 0.9815\n",
      "Epoch 84/200\n",
      "8/8 [==============================] - 0s 3ms/step - loss: 0.0870 - acc: 0.9821 - val_loss: 0.0934 - val_acc: 0.9815\n",
      "Epoch 85/200\n",
      "8/8 [==============================] - 0s 3ms/step - loss: 0.0849 - acc: 0.9841 - val_loss: 0.0924 - val_acc: 0.9792\n",
      "Epoch 86/200\n",
      "8/8 [==============================] - 0s 3ms/step - loss: 0.0835 - acc: 0.9841 - val_loss: 0.0923 - val_acc: 0.9815\n",
      "Epoch 87/200\n",
      "8/8 [==============================] - 0s 3ms/step - loss: 0.0822 - acc: 0.9851 - val_loss: 0.0928 - val_acc: 0.9792\n",
      "Epoch 88/200\n",
      "8/8 [==============================] - 0s 3ms/step - loss: 0.0811 - acc: 0.9851 - val_loss: 0.0906 - val_acc: 0.9792\n",
      "Epoch 89/200\n",
      "8/8 [==============================] - 0s 3ms/step - loss: 0.0793 - acc: 0.9851 - val_loss: 0.0885 - val_acc: 0.9792\n",
      "Epoch 90/200\n",
      "8/8 [==============================] - 0s 3ms/step - loss: 0.0784 - acc: 0.9861 - val_loss: 0.0898 - val_acc: 0.9769\n",
      "Epoch 91/200\n",
      "8/8 [==============================] - 0s 3ms/step - loss: 0.0767 - acc: 0.9861 - val_loss: 0.0868 - val_acc: 0.9815\n",
      "Epoch 92/200\n",
      "8/8 [==============================] - 0s 3ms/step - loss: 0.0753 - acc: 0.9861 - val_loss: 0.0867 - val_acc: 0.9792\n",
      "Epoch 93/200\n",
      "8/8 [==============================] - 0s 3ms/step - loss: 0.0745 - acc: 0.9871 - val_loss: 0.0860 - val_acc: 0.9792\n",
      "Epoch 94/200\n",
      "8/8 [==============================] - 0s 3ms/step - loss: 0.0734 - acc: 0.9861 - val_loss: 0.0861 - val_acc: 0.9792\n",
      "Epoch 95/200\n",
      "8/8 [==============================] - 0s 3ms/step - loss: 0.0715 - acc: 0.9891 - val_loss: 0.0843 - val_acc: 0.9792\n",
      "Epoch 96/200\n",
      "8/8 [==============================] - 0s 3ms/step - loss: 0.0704 - acc: 0.9891 - val_loss: 0.0850 - val_acc: 0.9792\n",
      "Epoch 97/200\n",
      "8/8 [==============================] - 0s 3ms/step - loss: 0.0692 - acc: 0.9871 - val_loss: 0.0840 - val_acc: 0.9792\n",
      "Epoch 98/200\n",
      "8/8 [==============================] - 0s 3ms/step - loss: 0.0685 - acc: 0.9891 - val_loss: 0.0829 - val_acc: 0.9792\n",
      "Epoch 99/200\n",
      "8/8 [==============================] - 0s 3ms/step - loss: 0.0669 - acc: 0.9900 - val_loss: 0.0829 - val_acc: 0.9792\n",
      "Epoch 100/200\n",
      "8/8 [==============================] - 0s 3ms/step - loss: 0.0658 - acc: 0.9910 - val_loss: 0.0822 - val_acc: 0.9792\n",
      "Epoch 101/200\n",
      "8/8 [==============================] - 0s 3ms/step - loss: 0.0649 - acc: 0.9900 - val_loss: 0.0820 - val_acc: 0.9792\n",
      "Epoch 102/200\n",
      "8/8 [==============================] - 0s 3ms/step - loss: 0.0643 - acc: 0.9910 - val_loss: 0.0798 - val_acc: 0.9838\n",
      "Epoch 103/200\n",
      "8/8 [==============================] - 0s 3ms/step - loss: 0.0629 - acc: 0.9900 - val_loss: 0.0803 - val_acc: 0.9792\n",
      "Epoch 104/200\n",
      "8/8 [==============================] - 0s 3ms/step - loss: 0.0618 - acc: 0.9910 - val_loss: 0.0798 - val_acc: 0.9815\n",
      "Epoch 105/200\n",
      "8/8 [==============================] - 0s 3ms/step - loss: 0.0612 - acc: 0.9920 - val_loss: 0.0805 - val_acc: 0.9792\n",
      "Epoch 106/200\n",
      "8/8 [==============================] - 0s 3ms/step - loss: 0.0603 - acc: 0.9920 - val_loss: 0.0797 - val_acc: 0.9769\n",
      "Epoch 107/200\n",
      "8/8 [==============================] - 0s 3ms/step - loss: 0.0593 - acc: 0.9920 - val_loss: 0.0774 - val_acc: 0.9815\n",
      "Epoch 108/200\n",
      "8/8 [==============================] - 0s 3ms/step - loss: 0.0580 - acc: 0.9920 - val_loss: 0.0778 - val_acc: 0.9815\n",
      "Epoch 109/200\n",
      "8/8 [==============================] - 0s 3ms/step - loss: 0.0573 - acc: 0.9930 - val_loss: 0.0771 - val_acc: 0.9815\n",
      "Epoch 110/200\n",
      "8/8 [==============================] - 0s 3ms/step - loss: 0.0559 - acc: 0.9940 - val_loss: 0.0783 - val_acc: 0.9792\n",
      "Epoch 111/200\n",
      "8/8 [==============================] - 0s 3ms/step - loss: 0.0555 - acc: 0.9950 - val_loss: 0.0768 - val_acc: 0.9792\n",
      "Epoch 112/200\n",
      "8/8 [==============================] - 0s 3ms/step - loss: 0.0545 - acc: 0.9950 - val_loss: 0.0738 - val_acc: 0.9861\n",
      "Epoch 113/200\n",
      "8/8 [==============================] - 0s 3ms/step - loss: 0.0534 - acc: 0.9940 - val_loss: 0.0747 - val_acc: 0.9838\n",
      "Epoch 114/200\n",
      "8/8 [==============================] - 0s 3ms/step - loss: 0.0526 - acc: 0.9930 - val_loss: 0.0764 - val_acc: 0.9792\n",
      "Epoch 115/200\n",
      "8/8 [==============================] - 0s 3ms/step - loss: 0.0521 - acc: 0.9950 - val_loss: 0.0772 - val_acc: 0.9769\n",
      "Epoch 116/200\n",
      "8/8 [==============================] - 0s 3ms/step - loss: 0.0510 - acc: 0.9950 - val_loss: 0.0727 - val_acc: 0.9861\n",
      "Epoch 117/200\n",
      "8/8 [==============================] - 0s 3ms/step - loss: 0.0504 - acc: 0.9940 - val_loss: 0.0725 - val_acc: 0.9861\n",
      "Epoch 118/200\n",
      "8/8 [==============================] - 0s 3ms/step - loss: 0.0495 - acc: 0.9950 - val_loss: 0.0741 - val_acc: 0.9769\n",
      "Epoch 119/200\n",
      "8/8 [==============================] - 0s 3ms/step - loss: 0.0490 - acc: 0.9950 - val_loss: 0.0737 - val_acc: 0.9815\n",
      "Epoch 120/200\n",
      "8/8 [==============================] - 0s 3ms/step - loss: 0.0483 - acc: 0.9950 - val_loss: 0.0730 - val_acc: 0.9838\n",
      "Epoch 121/200\n",
      "8/8 [==============================] - 0s 3ms/step - loss: 0.0474 - acc: 0.9970 - val_loss: 0.0739 - val_acc: 0.9769\n",
      "Epoch 122/200\n",
      "8/8 [==============================] - 0s 3ms/step - loss: 0.0468 - acc: 0.9960 - val_loss: 0.0710 - val_acc: 0.9838\n",
      "Epoch 123/200\n",
      "8/8 [==============================] - 0s 3ms/step - loss: 0.0462 - acc: 0.9950 - val_loss: 0.0710 - val_acc: 0.9838\n",
      "Epoch 124/200\n",
      "8/8 [==============================] - 0s 3ms/step - loss: 0.0454 - acc: 0.9960 - val_loss: 0.0725 - val_acc: 0.9769\n",
      "Epoch 125/200\n",
      "8/8 [==============================] - 0s 3ms/step - loss: 0.0444 - acc: 0.9960 - val_loss: 0.0715 - val_acc: 0.9769\n",
      "Epoch 126/200\n",
      "8/8 [==============================] - 0s 3ms/step - loss: 0.0444 - acc: 0.9960 - val_loss: 0.0695 - val_acc: 0.9838\n"
     ]
    },
    {
     "name": "stdout",
     "output_type": "stream",
     "text": [
      "Epoch 127/200\n",
      "8/8 [==============================] - 0s 3ms/step - loss: 0.0436 - acc: 0.9960 - val_loss: 0.0696 - val_acc: 0.9838\n",
      "Epoch 128/200\n",
      "8/8 [==============================] - 0s 3ms/step - loss: 0.0426 - acc: 0.9960 - val_loss: 0.0700 - val_acc: 0.9838\n",
      "Epoch 129/200\n",
      "8/8 [==============================] - 0s 3ms/step - loss: 0.0425 - acc: 0.9980 - val_loss: 0.0723 - val_acc: 0.9769\n",
      "Epoch 130/200\n",
      "8/8 [==============================] - 0s 3ms/step - loss: 0.0412 - acc: 0.9980 - val_loss: 0.0692 - val_acc: 0.9815\n",
      "Epoch 131/200\n",
      "8/8 [==============================] - 0s 3ms/step - loss: 0.0409 - acc: 0.9960 - val_loss: 0.0689 - val_acc: 0.9838\n",
      "Epoch 132/200\n",
      "8/8 [==============================] - 0s 3ms/step - loss: 0.0407 - acc: 0.9970 - val_loss: 0.0708 - val_acc: 0.9769\n",
      "Epoch 133/200\n",
      "8/8 [==============================] - 0s 3ms/step - loss: 0.0396 - acc: 0.9980 - val_loss: 0.0685 - val_acc: 0.9815\n",
      "Epoch 134/200\n",
      "8/8 [==============================] - 0s 3ms/step - loss: 0.0390 - acc: 0.9960 - val_loss: 0.0670 - val_acc: 0.9838\n",
      "Epoch 135/200\n",
      "8/8 [==============================] - 0s 3ms/step - loss: 0.0383 - acc: 0.9960 - val_loss: 0.0674 - val_acc: 0.9838\n",
      "Epoch 136/200\n",
      "8/8 [==============================] - 0s 3ms/step - loss: 0.0380 - acc: 0.9990 - val_loss: 0.0685 - val_acc: 0.9792\n",
      "Epoch 137/200\n",
      "8/8 [==============================] - 0s 3ms/step - loss: 0.0372 - acc: 0.9980 - val_loss: 0.0678 - val_acc: 0.9815\n",
      "Epoch 138/200\n",
      "8/8 [==============================] - 0s 3ms/step - loss: 0.0370 - acc: 0.9960 - val_loss: 0.0671 - val_acc: 0.9815\n",
      "Epoch 139/200\n",
      "8/8 [==============================] - 0s 3ms/step - loss: 0.0362 - acc: 0.9960 - val_loss: 0.0672 - val_acc: 0.9815\n",
      "Epoch 140/200\n",
      "8/8 [==============================] - 0s 3ms/step - loss: 0.0359 - acc: 0.9980 - val_loss: 0.0659 - val_acc: 0.9792\n",
      "Epoch 141/200\n",
      "8/8 [==============================] - 0s 3ms/step - loss: 0.0351 - acc: 0.9980 - val_loss: 0.0659 - val_acc: 0.9838\n",
      "Epoch 142/200\n",
      "8/8 [==============================] - 0s 3ms/step - loss: 0.0349 - acc: 0.9960 - val_loss: 0.0665 - val_acc: 0.9792\n",
      "Epoch 143/200\n",
      "8/8 [==============================] - 0s 3ms/step - loss: 0.0340 - acc: 0.9980 - val_loss: 0.0668 - val_acc: 0.9815\n",
      "Epoch 144/200\n",
      "8/8 [==============================] - 0s 3ms/step - loss: 0.0337 - acc: 0.9990 - val_loss: 0.0665 - val_acc: 0.9792\n",
      "Epoch 145/200\n",
      "8/8 [==============================] - 0s 3ms/step - loss: 0.0328 - acc: 0.9990 - val_loss: 0.0639 - val_acc: 0.9838\n",
      "Epoch 146/200\n",
      "8/8 [==============================] - 0s 3ms/step - loss: 0.0327 - acc: 0.9980 - val_loss: 0.0642 - val_acc: 0.9838\n",
      "Epoch 147/200\n",
      "8/8 [==============================] - 0s 3ms/step - loss: 0.0322 - acc: 0.9990 - val_loss: 0.0658 - val_acc: 0.9838\n",
      "Epoch 148/200\n",
      "8/8 [==============================] - 0s 3ms/step - loss: 0.0321 - acc: 0.9980 - val_loss: 0.0659 - val_acc: 0.9815\n",
      "Epoch 149/200\n",
      "8/8 [==============================] - 0s 3ms/step - loss: 0.0316 - acc: 0.9980 - val_loss: 0.0634 - val_acc: 0.9815\n",
      "Epoch 150/200\n",
      "8/8 [==============================] - 0s 3ms/step - loss: 0.0311 - acc: 0.9980 - val_loss: 0.0640 - val_acc: 0.9838\n",
      "Epoch 151/200\n",
      "8/8 [==============================] - 0s 3ms/step - loss: 0.0304 - acc: 0.9990 - val_loss: 0.0660 - val_acc: 0.9769\n",
      "Epoch 152/200\n",
      "8/8 [==============================] - 0s 3ms/step - loss: 0.0299 - acc: 0.9990 - val_loss: 0.0647 - val_acc: 0.9792\n",
      "Epoch 153/200\n",
      "8/8 [==============================] - 0s 3ms/step - loss: 0.0294 - acc: 0.9990 - val_loss: 0.0629 - val_acc: 0.9838\n",
      "Epoch 154/200\n",
      "8/8 [==============================] - 0s 3ms/step - loss: 0.0292 - acc: 0.9990 - val_loss: 0.0633 - val_acc: 0.9838\n",
      "Epoch 155/200\n",
      "8/8 [==============================] - 0s 3ms/step - loss: 0.0291 - acc: 0.9980 - val_loss: 0.0629 - val_acc: 0.9838\n",
      "Epoch 156/200\n",
      "8/8 [==============================] - 0s 3ms/step - loss: 0.0283 - acc: 0.9990 - val_loss: 0.0643 - val_acc: 0.9745\n",
      "Epoch 157/200\n",
      "8/8 [==============================] - 0s 3ms/step - loss: 0.0281 - acc: 0.9990 - val_loss: 0.0630 - val_acc: 0.9815\n",
      "Epoch 158/200\n",
      "8/8 [==============================] - 0s 3ms/step - loss: 0.0275 - acc: 0.9990 - val_loss: 0.0625 - val_acc: 0.9838\n",
      "Epoch 159/200\n",
      "8/8 [==============================] - 0s 3ms/step - loss: 0.0272 - acc: 0.9990 - val_loss: 0.0621 - val_acc: 0.9838\n",
      "Epoch 160/200\n",
      "8/8 [==============================] - 0s 3ms/step - loss: 0.0267 - acc: 0.9990 - val_loss: 0.0629 - val_acc: 0.9815\n",
      "Epoch 161/200\n",
      "8/8 [==============================] - 0s 3ms/step - loss: 0.0265 - acc: 0.9990 - val_loss: 0.0627 - val_acc: 0.9815\n",
      "Epoch 162/200\n",
      "8/8 [==============================] - 0s 3ms/step - loss: 0.0264 - acc: 0.9990 - val_loss: 0.0628 - val_acc: 0.9792\n",
      "Epoch 163/200\n",
      "8/8 [==============================] - 0s 3ms/step - loss: 0.0257 - acc: 0.9990 - val_loss: 0.0618 - val_acc: 0.9792\n",
      "Epoch 164/200\n",
      "8/8 [==============================] - 0s 3ms/step - loss: 0.0256 - acc: 0.9990 - val_loss: 0.0612 - val_acc: 0.9815\n",
      "Epoch 165/200\n",
      "8/8 [==============================] - 0s 3ms/step - loss: 0.0251 - acc: 0.9990 - val_loss: 0.0616 - val_acc: 0.9815\n",
      "Epoch 166/200\n",
      "8/8 [==============================] - 0s 3ms/step - loss: 0.0254 - acc: 0.9990 - val_loss: 0.0622 - val_acc: 0.9815\n",
      "Epoch 167/200\n",
      "8/8 [==============================] - 0s 3ms/step - loss: 0.0245 - acc: 0.9990 - val_loss: 0.0623 - val_acc: 0.9792\n",
      "Epoch 168/200\n",
      "8/8 [==============================] - 0s 3ms/step - loss: 0.0243 - acc: 0.9990 - val_loss: 0.0610 - val_acc: 0.9792\n",
      "Epoch 169/200\n",
      "8/8 [==============================] - 0s 3ms/step - loss: 0.0238 - acc: 0.9990 - val_loss: 0.0610 - val_acc: 0.9838\n",
      "Epoch 170/200\n",
      "8/8 [==============================] - 0s 3ms/step - loss: 0.0235 - acc: 0.9990 - val_loss: 0.0615 - val_acc: 0.9792\n",
      "Epoch 171/200\n",
      "8/8 [==============================] - 0s 3ms/step - loss: 0.0233 - acc: 0.9990 - val_loss: 0.0593 - val_acc: 0.9838\n",
      "Epoch 172/200\n",
      "8/8 [==============================] - 0s 3ms/step - loss: 0.0228 - acc: 0.9990 - val_loss: 0.0606 - val_acc: 0.9815\n",
      "Epoch 173/200\n",
      "8/8 [==============================] - 0s 3ms/step - loss: 0.0225 - acc: 0.9990 - val_loss: 0.0612 - val_acc: 0.9815\n",
      "Epoch 174/200\n",
      "8/8 [==============================] - 0s 3ms/step - loss: 0.0223 - acc: 0.9990 - val_loss: 0.0608 - val_acc: 0.9838\n",
      "Epoch 175/200\n",
      "8/8 [==============================] - 0s 3ms/step - loss: 0.0220 - acc: 0.9990 - val_loss: 0.0605 - val_acc: 0.9792\n",
      "Epoch 176/200\n",
      "8/8 [==============================] - 0s 3ms/step - loss: 0.0218 - acc: 0.9990 - val_loss: 0.0593 - val_acc: 0.9838\n",
      "Epoch 177/200\n",
      "8/8 [==============================] - 0s 3ms/step - loss: 0.0214 - acc: 0.9990 - val_loss: 0.0596 - val_acc: 0.9838\n",
      "Epoch 178/200\n",
      "8/8 [==============================] - 0s 3ms/step - loss: 0.0210 - acc: 0.9990 - val_loss: 0.0607 - val_acc: 0.9815\n",
      "Epoch 179/200\n",
      "8/8 [==============================] - 0s 3ms/step - loss: 0.0209 - acc: 0.9990 - val_loss: 0.0596 - val_acc: 0.9792\n",
      "Epoch 180/200\n",
      "8/8 [==============================] - 0s 3ms/step - loss: 0.0206 - acc: 0.9990 - val_loss: 0.0593 - val_acc: 0.9838\n",
      "Epoch 181/200\n",
      "8/8 [==============================] - 0s 3ms/step - loss: 0.0203 - acc: 0.9990 - val_loss: 0.0590 - val_acc: 0.9815\n",
      "Epoch 182/200\n",
      "8/8 [==============================] - 0s 3ms/step - loss: 0.0201 - acc: 0.9990 - val_loss: 0.0599 - val_acc: 0.9815\n",
      "Epoch 183/200\n",
      "8/8 [==============================] - 0s 3ms/step - loss: 0.0200 - acc: 0.9990 - val_loss: 0.0600 - val_acc: 0.9815\n",
      "Epoch 184/200\n",
      "8/8 [==============================] - 0s 3ms/step - loss: 0.0195 - acc: 0.9990 - val_loss: 0.0589 - val_acc: 0.9838\n",
      "Epoch 185/200\n",
      "8/8 [==============================] - 0s 3ms/step - loss: 0.0193 - acc: 0.9990 - val_loss: 0.0594 - val_acc: 0.9792\n",
      "Epoch 186/200\n",
      "8/8 [==============================] - 0s 3ms/step - loss: 0.0193 - acc: 0.9990 - val_loss: 0.0583 - val_acc: 0.9815\n",
      "Epoch 187/200\n",
      "8/8 [==============================] - 0s 3ms/step - loss: 0.0188 - acc: 0.9990 - val_loss: 0.0589 - val_acc: 0.9792\n",
      "Epoch 188/200\n",
      "8/8 [==============================] - 0s 3ms/step - loss: 0.0186 - acc: 0.9990 - val_loss: 0.0598 - val_acc: 0.9792\n",
      "Epoch 189/200\n",
      "8/8 [==============================] - 0s 3ms/step - loss: 0.0184 - acc: 0.9990 - val_loss: 0.0588 - val_acc: 0.9792\n",
      "Epoch 190/200\n",
      "8/8 [==============================] - 0s 3ms/step - loss: 0.0181 - acc: 0.9990 - val_loss: 0.0581 - val_acc: 0.9838\n",
      "Epoch 191/200\n",
      "8/8 [==============================] - 0s 3ms/step - loss: 0.0179 - acc: 0.9990 - val_loss: 0.0579 - val_acc: 0.9792\n",
      "Epoch 192/200\n",
      "8/8 [==============================] - 0s 3ms/step - loss: 0.0177 - acc: 0.9990 - val_loss: 0.0589 - val_acc: 0.9792\n",
      "Epoch 193/200\n",
      "8/8 [==============================] - 0s 3ms/step - loss: 0.0174 - acc: 0.9990 - val_loss: 0.0589 - val_acc: 0.9792\n",
      "Epoch 194/200\n",
      "8/8 [==============================] - 0s 3ms/step - loss: 0.0173 - acc: 0.9990 - val_loss: 0.0588 - val_acc: 0.9815\n",
      "Epoch 195/200\n",
      "8/8 [==============================] - 0s 3ms/step - loss: 0.0172 - acc: 0.9990 - val_loss: 0.0572 - val_acc: 0.9815\n",
      "Epoch 196/200\n",
      "8/8 [==============================] - 0s 3ms/step - loss: 0.0167 - acc: 1.0000 - val_loss: 0.0584 - val_acc: 0.9792\n",
      "Epoch 197/200\n",
      "8/8 [==============================] - 0s 3ms/step - loss: 0.0166 - acc: 0.9990 - val_loss: 0.0583 - val_acc: 0.9815\n",
      "Epoch 198/200\n",
      "8/8 [==============================] - 0s 3ms/step - loss: 0.0164 - acc: 0.9990 - val_loss: 0.0577 - val_acc: 0.9792\n",
      "Epoch 199/200\n",
      "8/8 [==============================] - 0s 3ms/step - loss: 0.0163 - acc: 0.9990 - val_loss: 0.0580 - val_acc: 0.9815\n",
      "Epoch 200/200\n",
      "8/8 [==============================] - 0s 3ms/step - loss: 0.0162 - acc: 1.0000 - val_loss: 0.0588 - val_acc: 0.9815\n"
     ]
    }
   ],
   "source": [
    "history = model.fit(X_train,\n",
    "          y_train,\n",
    "          batch_size=128,\n",
    "          validation_split=0.3,\n",
    "          epochs=200,\n",
    "          verbose=1)"
   ]
  },
  {
   "cell_type": "code",
   "execution_count": 88,
   "metadata": {},
   "outputs": [
    {
     "data": {
      "image/png": "[encoded data removed]",
      "text/plain": [
       "<Figure size 960x800 with 2 Axes>"
      ]
     },
     "metadata": {
      "needs_background": "light"
     },
     "output_type": "display_data"
    }
   ],
   "source": [
    "plot_learning_curve_over_epochs(history)"
   ]
  },
  {
   "cell_type": "markdown",
   "metadata": {},
   "source": [
    "### Evaluierung der Modellperformance\n",
    "Unser erstes neuronales Netz hat natürlich auch auf ungesehene Daten entsprechend zu performen. Die entsprechenden Untersuchungen werden auf Basis der bewährten Confusion Matrix unternommen, wobei natürlich nur jene Daten herangezogen werden dürfen, die aus dem Trainingsprozess herausgehalten wurden."
   ]
  },
  {
   "cell_type": "code",
   "execution_count": 89,
   "metadata": {},
   "outputs": [],
   "source": [
    "y_pred_probabilities = model.predict(X_test)"
   ]
  },
  {
   "cell_type": "code",
   "execution_count": 90,
   "metadata": {},
   "outputs": [],
   "source": [
    "y_pred = np.argmax(y_pred_probabilities, axis=1)"
   ]
  },
  {
   "cell_type": "code",
   "execution_count": 91,
   "metadata": {},
   "outputs": [
    {
     "data": {
      "image/png": "[encoded data removed]",
      "text/plain": [
       "<Figure size 720x720 with 2 Axes>"
      ]
     },
     "metadata": {
      "needs_background": "light"
     },
     "output_type": "display_data"
    }
   ],
   "source": [
    "cm = confusion_matrix(np.argmax(y_test, axis=1), y_pred)\n",
    "class_names = ['0', '1', '2', '3', '4', '5', '6', '7', '8', '9']\n",
    "\n",
    "plot_confusion_matrix(cm, class_names)"
   ]
  },
  {
   "cell_type": "code",
   "execution_count": 92,
   "metadata": {},
   "outputs": [
    {
     "name": "stdout",
     "output_type": "stream",
     "text": [
      "              precision    recall  f1-score   support\n",
      "\n",
      "           0       1.00      0.97      0.99        36\n",
      "           1       0.92      0.92      0.92        37\n",
      "           2       0.94      0.94      0.94        35\n",
      "           3       1.00      0.95      0.97        37\n",
      "           4       0.92      0.94      0.93        36\n",
      "           5       1.00      0.97      0.99        36\n",
      "           6       0.97      1.00      0.99        36\n",
      "           7       1.00      1.00      1.00        36\n",
      "           8       0.94      0.89      0.91        35\n",
      "           9       0.90      1.00      0.95        36\n",
      "\n",
      "    accuracy                           0.96       360\n",
      "   macro avg       0.96      0.96      0.96       360\n",
      "weighted avg       0.96      0.96      0.96       360\n",
      "\n"
     ]
    }
   ],
   "source": [
    "print(classification_report(np.argmax(y_test, axis=1), y_pred))"
   ]
  },
  {
   "cell_type": "markdown",
   "metadata": {},
   "source": [
    "### Erster Durchlauf: abgeschlossen!\n",
    "\n",
    "<center><img src=\"../resources/images/crisp.png\" style=\"width: 35%\"/></center>\n",
    "<center>Fig. 4 <a href=\"https://mineracaodedados.files.wordpress.com/2012/04/the-crisp-dm-model-the-new-blueprint-for-data-mining-shearer-colin.pdf\">CRISP-DM Modell (Shearer 2000)</a></center>\n",
    "\n",
    "An dieser Stelle sei das CRISP-DM Modell (Fig. 4) erwähnt, das den typischen Ablauf eines Data Science Projekts aufzeigt. Dies Grafik legt uns nun nahe, nach einem ersten Versuch der Modellierung an den Anfang unseres Projektes zurückzugehen, um noch einmal an allen uns zur Verfügung stehenden Stellschrauben zu drehen, um die Modellperformance zu verbessern."
   ]
  },
  {
   "cell_type": "markdown",
   "metadata": {},
   "source": [
    "### Exkurs: KFold Cross-Validation und das Serialisieren von Modellen\n",
    "\n",
    "Der folgende Codeabschnitt zeigt beispielhaft, wie nun eine bestimmte Modellkonfiguration einem genaueren Test per KFold Cross-Validation unterzogen wird. Außerdem zeigt der Aufruf der Methode `save()` eines Kerasmodells, wie ein trainiertes Modell für den späteren Einsatz abgespeichert werden kann."
   ]
  },
  {
   "cell_type": "code",
   "execution_count": null,
   "metadata": {
    "pycharm": {
     "name": "#%%\n"
    }
   },
   "outputs": [],
   "source": [
    "from sklearn.model_selection import StratifiedKFold\n",
    "\n",
    "# Leere Listen für das Abspeichern der Metriken für die Evaluierung der Trainingsperformance\n",
    "losses = []\n",
    "val_losses = []\n",
    "accuracies = []\n",
    "val_accuracies = []\n",
    "# Diese Variable dient zur Ermittlung jenes Modells, das den geringsten Validierungsloss zeigt\n",
    "min_val_loss = 10\n",
    "\n",
    "# Instanzieren des Objektes zur Implementierung der KFold Cross-Validation\n",
    "skf = StratifiedKFold(n_splits=10, shuffle=True)\n",
    "\n",
    "for index, (train_indices, val_indices) in enumerate(skf.split(X_train, y_train.argmax(axis=1))):\n",
    "    print(f'---------------- Processing fold setting {index}/10 ----------------')\n",
    "    # Daten für das Training vorbereiten\n",
    "    X_train_folds, X_val_fold = X_train[train_indices], X_train[val_indices]\n",
    "    y_train_folds, y_val_fold = y_train[train_indices], y_train[val_indices]\n",
    "    \n",
    "    # Modellkonfiguration\n",
    "    model = Sequential()\n",
    "    model.add(Input(shape=input_dimension, name='Input_Layer'))\n",
    "    model.add(Dense(32, activation='relu', name='First_Layer'))\n",
    "    model.add(Dense(16, activation='relu', name='Second_Layer'))\n",
    "    model.add(Dense(output_dimension, activation='softmax', name='Output_Layer'))\n",
    "    model.compile(loss='categorical_crossentropy',\n",
    "              optimizer='adam',\n",
    "              metrics=['acc'])\n",
    "    \n",
    "    # Training\n",
    "    history = model.fit(X_train_folds,\n",
    "                        y_train_folds,\n",
    "                        validation_data=(X_val_fold, y_val_fold),\n",
    "                        batch_size=350,\n",
    "                        epochs=200,\n",
    "                        verbose=0)\n",
    "    \n",
    "    \n",
    "    # Statistiken für die Evaluierung des Trainingsfortschritts speichern bzw. ausgeben\n",
    "    final_loss = history.history['loss'][-1]\n",
    "    losses.append(final_loss)\n",
    "    final_val_loss = history.history['val_loss'][-1]\n",
    "    val_losses.append(final_val_loss)\n",
    "    final_acc = history.history['acc'][-1]\n",
    "    accuracies.append(final_acc)\n",
    "    final_val_acc = history.history['val_acc'][-1]\n",
    "    val_accuracies.append(final_val_acc)\n",
    "    print(f'Train Loss / Validation Loss:\\t\\t{final_loss:.3f} / {final_val_loss:.3f}')\n",
    "    print(f'Train Accuracy / Validation Accuracy:\\t{final_acc:.3f} / {final_val_acc:.3f}')\n",
    "    \n",
    "    # Das beste Modell (gemessen an der Metrik Validation Loss) für später abspeichern\n",
    "    if final_val_loss < min_val_loss:\n",
    "        min_val_loss = final_val_loss\n",
    "        best_model_index = index\n",
    "        model.save('digits_classifier.h5')\n",
    "        \n",
    "\n",
    "print(f'\\n---------- Saved Model from fold setting {best_model_index} to disk. ----------')"
   ]
  },
  {
   "cell_type": "markdown",
   "metadata": {},
   "source": [
    "### Laden serialisierter Modelle\n",
    "Die Funktion [load_model()](https://www.tensorflow.org/guide/keras/save_and_serialize) erlaubt es uns, zuvor serialisierte Modell zu reaktivieren. Der folgende Codeabschnitt zeigt das Laden des besten Modells der Cross-Validation, und führt im Anschluss die Evaluierung der Testdaten durch:"
   ]
  },
  {
   "cell_type": "code",
   "execution_count": null,
   "metadata": {},
   "outputs": [],
   "source": [
    "model_from_disk = k.models.load_model('digits_classifier.h5')"
   ]
  },
  {
   "cell_type": "code",
   "execution_count": null,
   "metadata": {},
   "outputs": [],
   "source": [
    "y_pred_probabilities = model_from_disk.predict(X_test)"
   ]
  },
  {
   "cell_type": "code",
   "execution_count": null,
   "metadata": {},
   "outputs": [],
   "source": [
    "y_pred = np.argmax(y_pred_probabilities, axis=1)"
   ]
  },
  {
   "cell_type": "code",
   "execution_count": null,
   "metadata": {},
   "outputs": [],
   "source": [
    "cm = confusion_matrix(np.argmax(y_test, axis=1), y_pred)\n",
    "\n",
    "class_names = ['0', '1', '2', '3', '4', '5', '6', '7', '8', '9']\n",
    "\n",
    "plot_confusion_matrix(cm, class_names)"
   ]
  },
  {
   "cell_type": "code",
   "execution_count": null,
   "metadata": {},
   "outputs": [],
   "source": [
    "print(classification_report(np.argmax(y_test, axis=1), y_pred))"
   ]
  }
 ],
 "metadata": {
  "kernelspec": {
   "display_name": "Python 3 (ipykernel)",
   "language": "python",
   "name": "python3"
  },
  "language_info": {
   "codemirror_mode": {
    "name": "ipython",
    "version": 3
   },
   "file_extension": ".py",
   "mimetype": "text/x-python",
   "name": "python",
   "nbconvert_exporter": "python",
   "pygments_lexer": "ipython3",
   "version": "3.9.6"
  }
 },
 "nbformat": 4,
 "nbformat_minor": 2
}
