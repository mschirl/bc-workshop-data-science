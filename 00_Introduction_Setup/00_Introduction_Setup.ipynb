{
 "cells": [
  {
   "cell_type": "markdown",
   "metadata": {
    "slideshow": {
     "slide_type": "slide"
    }
   },
   "source": [
    "# Python Basics\n",
    "## Fuer Programmierende\n",
    "\n",
    "\n",
    "![python_logo](https://www.python.org/static/community_logos/python-logo-inkscape.svg)"
   ]
  },
  {
   "cell_type": "markdown",
   "metadata": {
    "slideshow": {
     "slide_type": "subslide"
    }
   },
   "source": [
    "## Agenda \n",
    "- Python Eigenschaften und Ökosystem\n",
    "- Datentypen und ihr Nutzen\n",
    "- Funktionen, Lambda-Funktionen, List-Comprehensions\n",
    "- Kontrollstrukturen und ihre Besonderheiten\n",
    "\n",
    "Dieser Grundkurs setzt grundlegende Programmierkenntnisse voraus und vermittelt den Teilnehmern die Basiskonzepte von Python, welche zum Arbeiten mit Skripten und Bibliotheken noetig sind."
   ]
  },
  {
   "cell_type": "markdown",
   "metadata": {
    "slideshow": {
     "slide_type": "subslide"
    }
   },
   "source": [
    "## Warum ist Python so beliebt?\n",
    " - Leicht zu verstehen, lesen und schreiben\n",
    " - Multi-Paradigma und General-Purpose\n",
    " - Einfache Integration von bestehendem C-Code ueber FFI\n",
    " - Umfangreiche, stabile und schnelle Bibliotheken (Sciences, Web, OS)\n",
    "\n",
    "_\"There should be one - and preferably only one -- obvious way to do it.  \n",
    "Although that way may not be obvious at first unless you're Dutch\"_   \n",
    "Aus \"The Zen of Python\" von Tim Peters"
   ]
  },
  {
   "cell_type": "markdown",
   "metadata": {
    "slideshow": {
     "slide_type": "subslide"
    }
   },
   "source": [
    "## Technische Eigenschaften  \n",
    "Einige ausgewählte Eigenschaften, welche Python zur Beliebheit verhelfen\n",
    "![python_question_growth](../resources/images/python_eigenschaften.png)"
   ]
  },
  {
   "cell_type": "markdown",
   "metadata": {
    "slideshow": {
     "slide_type": "subslide"
    }
   },
   "source": [
    "## Technische Eigenschaften  \n",
    "Der Interpretationsvorgang\n",
    "![python_question_growth](../resources/images/python_interpreting.png)"
   ]
  },
  {
   "cell_type": "markdown",
   "metadata": {
    "slideshow": {
     "slide_type": "subslide"
    }
   },
   "source": [
    "## Verschiedene Implementierungen  \n",
    "![python_question_growth](../resources/images/python_implementierungen.png)"
   ]
  },
  {
   "cell_type": "markdown",
   "metadata": {
    "slideshow": {
     "slide_type": "subslide"
    }
   },
   "source": [
    "## Weitere Resourcen  \n",
    " - [Offizielle Seite der Python Foundation](https://www.python.org/)\n",
    " - [Python Dokumentation](https://docs.python.org/3/) \n",
    " - [Automate the Boring Stuff](https://automatetheboringstuff.com/) (Free HTML version)\n",
    " - [Python for Everybody](https://www.py4e.com/)\n",
    " \n",
    " \n",
    " Viele weitere freie Bücher und Online-Resourcen existieren"
   ]
  },
  {
   "cell_type": "markdown",
   "metadata": {
    "slideshow": {
     "slide_type": "slide"
    }
   },
   "source": [
    "## Python benutzen: Der Interpreter (Kommandozeile)  \n",
    "Der Python Interpreter kann direkt in der Eingabeaufforderung aufgerufen werden (verschiedene Versionen sind im Namen gekennzeichnet, nur \"python\" sollte auf die neueste referenzieren)\n",
    "```\n",
    "$ python3.9.6\n",
    "```\n",
    "Dies erzeugt die folgende versionsabhängige Ausgabe, wobei \\>\\>\\> in der letzten Zeile die Eingabeaufforderung signalisiert.\n",
    "```\n",
    "Python 3.9.6 (default, Aug 09 2021, 11:37:16) [GCC] on linux\n",
    "Type \"help\", \"copyright\", \"credits\" or \"license\" for more information.\n",
    ">>>  \n",
    "```\n",
    "Hier können jetzt Python Befehle eingegeben werden. Dies ist gut geeignet um kurze Code-Schnipsel auszuprobieren. Für längere Programme schreibt man die Befehle jedoch in eine Datei und füttert diese dann an den Interpreter."
   ]
  },
  {
   "cell_type": "markdown",
   "metadata": {
    "slideshow": {
     "slide_type": "subslide"
    }
   },
   "source": [
    "## Python benutzen: Jupyter Notebook  \n",
    "In der Programmierwelt ist ein sog. \"Notebook\" ein Dateiformat, in dem Code Zellen (mitsamt grafischem Output) und Markdown Zellen gemischt verwendet werden koennen. Dies ist besonders für interaktive Analyse und Reporting Anforderungen geeignet, da die verwendeten Parameter von Funktionen Teil des Reports sind. Dies ermöglicht die Reproduzierbarkeit. Das Notebook kann dann in verschiedenen Formaten z.B. als HTML oder PDF exportiert werden.  \n",
    "\n",
    "Beispiel: Dieses Kursmaterial wurde als Jupyter Notebook erstellt!"
   ]
  },
  {
   "cell_type": "markdown",
   "metadata": {
    "slideshow": {
     "slide_type": "slide"
    }
   },
   "source": [
    "## Syntax: Variablen & Typen"
   ]
  },
  {
   "cell_type": "code",
   "execution_count": 19,
   "metadata": {
    "slideshow": {
     "slide_type": "fragment"
    }
   },
   "outputs": [
    {
     "name": "stdout",
     "output_type": "stream",
     "text": [
      "weight: <class 'int'> \n",
      "height: <class 'float'>\n",
      "bmi: <class 'float'>\n",
      "Dein BMI ist 22.920971074380166\n"
     ]
    }
   ],
   "source": [
    "# Dies ist ein Kommentar und wird ignoriert\n",
    "weight = 71\n",
    "height = 1.76\n",
    "print('weight:', type(weight), '\\nheight:', type(height))\n",
    "bmi = weight / height ** 2\n",
    "print('bmi:', type(bmi))\n",
    "print(\"Dein BMI ist\", bmi)"
   ]
  },
  {
   "cell_type": "markdown",
   "metadata": {
    "slideshow": {
     "slide_type": "subslide"
    }
   },
   "source": [
    "## Ausgabe von Text und Variablen  \n",
    "Es gibt in Python mehrere Arten, die Ausgabe der print()-Funktion zu formatieren, wobei alle mehr oder weniger gleich effizient sind.  \n",
    "\n",
    "(1) Im einfachsten Fall werden einfach alle Argumente in ihre Text-Repräsentation konvertiert und nacheinander ausgegeben.  \n",
    "\n",
    "(2) Mit dem '%'-Zeichen koennen Variablen mitten im String platziert werden und sogar Formatierungen eingestellt werden, etwa Anzahl der Nachkommastellen (sehr ähnlich zu printf() aus der Sprache C). \n",
    "\n",
    "(3) .format(): Der Vorteil der Methode mittels der String Methode .format() ist, dass positionale Argumente nicht wiederholt werden müssen, sondern über ihren Argument-Index angesprochen werden können, verfügbar ab Python 3.1.  \n",
    "\n",
    "(4) f-Strings sind die neueste Moeglichkeit, eingeführt in Python 3.6. Sie ist kürzer als .format(), da die Argumente direkt in den String geschrieben werden können. Ausserdem haben f-Strings den entscheidenen Vorteil, dass Methoden im String aufgerufen werden können, wohingegen .format() nur Variablen/Sequenzen oder ihre Attribute erlaubt."
   ]
  },
  {
   "cell_type": "code",
   "execution_count": 29,
   "metadata": {
    "slideshow": {
     "slide_type": "subslide"
    }
   },
   "outputs": [
    {
     "name": "stdout",
     "output_type": "stream",
     "text": [
      "Dein BMI ist 22.920971074380166\n",
      "Dein BMI ist 22.92097\n",
      "Dein BMI ist 22.9210, wirklich, er ist 22.920971074380166\n",
      "Dein BMI ist 22.9210\n"
     ]
    },
    {
     "data": {
      "text/plain": [
       "str"
      ]
     },
     "execution_count": 29,
     "metadata": {},
     "output_type": "execute_result"
    }
   ],
   "source": [
    "# (1) Automatische Konvertierung\n",
    "print(\"Dein BMI ist\", bmi)\n",
    "# (2) %\n",
    "print(\"Dein BMI ist %.5f\" % bmi)\n",
    "# (3) .format()\n",
    "print('Dein BMI ist {0:.4f}, wirklich, er ist {0}'.format(bmi))\n",
    "# (4) f-String\n",
    "print(f'Dein BMI ist {bmi:.4f}')\n",
    "\n",
    "type('C')"
   ]
  },
  {
   "cell_type": "markdown",
   "metadata": {
    "slideshow": {
     "slide_type": "fragment"
    }
   },
   "source": [
    "Bei Formatierung von Floats wird implizit gerundet!   \n",
    "\n",
    "### Empfehlung:  \n",
    "Gewöhnen Sie sich an die Nutzung von f-Strings zum Formatieren, da sie die meisten Anwendungsfälle abdecken."
   ]
  },
  {
   "cell_type": "markdown",
   "metadata": {
    "slideshow": {
     "slide_type": "slide"
    }
   },
   "source": [
    "## Zuweisungen und Referenzen  \n",
    "Variablen sind in Python Referenzen auf Objekte"
   ]
  },
  {
   "cell_type": "code",
   "execution_count": 30,
   "metadata": {
    "slideshow": {
     "slide_type": "fragment"
    }
   },
   "outputs": [
    {
     "name": "stdout",
     "output_type": "stream",
     "text": [
      "id(x) 1281581856848\n",
      "id(x) 1281581856848 id(y) 1281581856848\n",
      "id(x) 1281581856848 id(y) 1281485465936 <------\n"
     ]
    }
   ],
   "source": [
    "x = 4711\n",
    "print('id(x)', id(x))\n",
    "y = x\n",
    "print('id(x)', id(x), 'id(y)', id(y))\n",
    "y = 2\n",
    "print('id(x)', id(x), 'id(y)', id(y), '<------')"
   ]
  },
  {
   "cell_type": "markdown",
   "metadata": {
    "slideshow": {
     "slide_type": "fragment"
    }
   },
   "source": [
    "Mit einer erneuten Zuweisung von y = 2 wird die Referenz also umgeändert - x wird nicht manipuliert!"
   ]
  },
  {
   "cell_type": "markdown",
   "metadata": {
    "slideshow": {
     "slide_type": "slide"
    }
   },
   "source": [
    "## Strings (Zeichenketten)  \n",
    "Nehmen wir die beiden folgenden Zeichenketten:"
   ]
  },
  {
   "cell_type": "code",
   "execution_count": 48,
   "metadata": {
    "slideshow": {
     "slide_type": "fragment"
    }
   },
   "outputs": [
    {
     "name": "stdout",
     "output_type": "stream",
     "text": [
      "<class 'str'> Hallo Python!\n",
      "<class 'str'> Python Programmierung\n",
      "<class 'str'> C\n"
     ]
    }
   ],
   "source": [
    "# In Python sind \"...\" und '...' zum Definieren von Zeichenketten erlaubt!\n",
    "s1 = \"Hallo Python!\"\n",
    "s2 = 'Python Programmierung'\n",
    "s3 = 'C'\n",
    "print(type(s1), s1)\n",
    "print(type(s2), s2)\n",
    "print(type(s3), s3)"
   ]
  },
  {
   "cell_type": "markdown",
   "metadata": {
    "slideshow": {
     "slide_type": "fragment"
    }
   },
   "source": [
    "Da Strings nur eine Aneinanderreihung von Zeichen sind, können wir weiterhin die einzelnen Zeichen direkt Ansprechen.\n",
    "Das passiert in Python - wie auch in vielen anderen Sprachen - mittles eckiger Klammern.\n",
    "Weiterhin gibt es eine erweitere Syntax, um nur bestimmte Positionen anzusprechen, oder auszulassen - auch mit Mustern!"
   ]
  },
  {
   "cell_type": "code",
   "execution_count": 49,
   "metadata": {
    "slideshow": {
     "slide_type": "subslide"
    }
   },
   "outputs": [
    {
     "name": "stdout",
     "output_type": "stream",
     "text": [
      "s1[0]:  H\n",
      "s2[1:5]:  ytho\n",
      "s1[-1]:  !\n",
      "s2[-1:-4:-1]:  gnu\n",
      "s2[-1:5:-2]:  guemagr \n",
      "s2[-1:-11:1]:   laenge: 0\n",
      "s2[0::2]:  Pto rgameug\n",
      "s2[-1::-1]:  gnureimmargorP nohtyP\n"
     ]
    }
   ],
   "source": [
    "print(\"s1[0]: \",        s1[0])\n",
    "print(\"s2[1:5]: \",      s2[1:5])\n",
    "print(\"s1[-1]: \",       s1[-1])\n",
    "# was passiert hier?\n",
    "print(\"s2[-1:-4:-1]: \", s2[-1:-4:-1])\n",
    "print(\"s2[-1:5:-2]: \",  s2[-1:5:-2])\n",
    "print(\"s2[-1:-11:1]: \", s2[-1:-11:1], 'laenge:', len(s2[-1:-11:1]))\n",
    "print(\"s2[0::2]: \",     s2[0::2])\n",
    "print(\"s2[-1::-1]: \",   s2[-1::-1])"
   ]
  },
  {
   "cell_type": "markdown",
   "metadata": {
    "slideshow": {
     "slide_type": "fragment"
    }
   },
   "source": [
    "Die Syntax ist also [start:stop:step] wobei der obere Index exkludiert ist und einzelne Teile auch weggelassen werden können.   \n",
    "Diese Syntax nennt man 'Slicing'.  \n",
    "\n",
    "Strings sind ebenfalls Objekte (Instanzen von Klassen-Beschreibungen) - welche Funktionen sind verfügbar?\n",
    "Definieren Sie einen String im Interpreter.\n",
    "Durch zweimaliges drücken der Tab-Taste bekommen sie Vorschläge für vorhandene Methoden. Methoden werden mittels Punkt aufgerufen: "
   ]
  },
  {
   "cell_type": "code",
   "execution_count": 65,
   "metadata": {
    "slideshow": {
     "slide_type": "fragment"
    }
   },
   "outputs": [
    {
     "name": "stdout",
     "output_type": "stream",
     "text": [
      "2\n",
      "1281582964400 1281606847088\n"
     ]
    }
   ],
   "source": [
    "print(s1.count('o'))\n",
    "print(id(s1), id(s1.capitalize()))"
   ]
  },
  {
   "cell_type": "markdown",
   "metadata": {
    "slideshow": {
     "slide_type": "subslide"
    }
   },
   "source": [
    "###  Achtung!\n",
    "Strings sind in Python ausserdem nicht veränderbar d.h. wenn sie modifiziert werden, wird immer ein neues Objekt erstellt!\n",
    "Aus diesem Grund sind modifizierende String-Operationen auf ein Minimum zu begrenzen."
   ]
  },
  {
   "cell_type": "markdown",
   "metadata": {
    "slideshow": {
     "slide_type": "slide"
    }
   },
   "source": [
    "## Listen   \n",
    "Listen sind genau das - eine geordnete Liste von Objekten, die nicht vom gleichen Typ sein müssen!  \n",
    "Wir können also eine Liste aus den verschiedenen, uns bisher bekannten Typen zusammenbauen. Die Syntax hierfür sind ebenfalls die eckigen Klammern:"
   ]
  },
  {
   "cell_type": "code",
   "execution_count": 70,
   "metadata": {
    "slideshow": {
     "slide_type": "fragment"
    }
   },
   "outputs": [
    {
     "name": "stdout",
     "output_type": "stream",
     "text": [
      "['felling axe', 'woodsman', 217, 442.337]\n",
      "<class 'list'> None\n"
     ]
    }
   ],
   "source": [
    "# Definieren der einer Liste\n",
    "l = ['felling axe', 'woodsman', 217, 442.337]\n",
    "print(type(l), print(l))"
   ]
  },
  {
   "cell_type": "markdown",
   "metadata": {
    "slideshow": {
     "slide_type": "subslide"
    }
   },
   "source": [
    "Genau wie bei den Strings, steht die Slicing-Syntax auch für die Listen zur Verfügung:"
   ]
  },
  {
   "cell_type": "code",
   "execution_count": 76,
   "metadata": {
    "slideshow": {
     "slide_type": "fragment"
    }
   },
   "outputs": [
    {
     "name": "stdout",
     "output_type": "stream",
     "text": [
      "l[2]:  erster!\n",
      "l[1:3]:  ['erster!', 'erster!']\n",
      "l[-1::-1]:  [1.0, 1.0, 1.0, 1.0, 1.0, 442.337, 'F', 'F', 'F', 'F', 'F', 'erster!', 'erster!', 'erster!']\n",
      "l[2]='F'\n",
      "l[2]: F\n",
      "['erster!', 'erster!', 'erster!', 'F', 'F', 'F', 'F', 'F', 'F', 442.337, 1.0, 1.0, 1.0, 1.0, 1.0, 1.0]\n"
     ]
    },
    {
     "data": {
      "text/plain": [
       "[[1, 2, 3], ['a', 'b', 'c'], [1.1, 1.2, 1.3]]"
      ]
     },
     "execution_count": 76,
     "metadata": {},
     "output_type": "execute_result"
    }
   ],
   "source": [
    "print(\"l[2]: \", l[2])\n",
    "print(\"l[1:3]: \", l[1:3])\n",
    "print(\"l[-1::-1]: \", l[-1::-1])\n",
    "l[2] = \"F\";\n",
    "print(\"l[2]=\\'F\\'\")\n",
    "print(\"l[2]:\", l[2])\n",
    "l.append(1.0)\n",
    "l.insert(0,\"erster!\")\n",
    "print(l)\n",
    "# Listen von Listen sind ebenfalls moeglich:\n",
    "ll = [[1,2,3],['a','b','c'],[1.1, 1.2, 1.3]]\n",
    "ll"
   ]
  },
  {
   "cell_type": "markdown",
   "metadata": {
    "slideshow": {
     "slide_type": "slide"
    }
   },
   "source": [
    "## Tupel  \n",
    "Es gibt noch einen weiteren Datentyp, der sehr ähnlich zu Strings und Listen ist: Das Tupel.  \n",
    "Das Tupel wird zwar auch mit eckigen Klammern adressiert und bietet ebenfalls die Slicing-Syntax, allerdings unterscheidet sich das Tupel in einigen wenigen, aber wichtigen, Punkten"
   ]
  },
  {
   "cell_type": "code",
   "execution_count": 77,
   "metadata": {
    "slideshow": {
     "slide_type": "fragment"
    }
   },
   "outputs": [
    {
     "name": "stdout",
     "output_type": "stream",
     "text": [
      "(3.0, 'vier', [5, 6])\n"
     ]
    },
    {
     "ename": "TypeError",
     "evalue": "'tuple' object does not support item assignment",
     "output_type": "error",
     "traceback": [
      "\u001b[1;31m---------------------------------------------------------------------------\u001b[0m",
      "\u001b[1;31mTypeError\u001b[0m                                 Traceback (most recent call last)",
      "\u001b[1;32m~\\AppData\\Local\\Temp/ipykernel_9084/3142512864.py\u001b[0m in \u001b[0;36m<module>\u001b[1;34m\u001b[0m\n\u001b[0;32m      1\u001b[0m \u001b[0mtp\u001b[0m \u001b[1;33m=\u001b[0m \u001b[1;33m(\u001b[0m\u001b[1;36m1\u001b[0m\u001b[1;33m,\u001b[0m \u001b[1;36m2\u001b[0m\u001b[1;33m,\u001b[0m \u001b[1;36m3.0\u001b[0m \u001b[1;33m,\u001b[0m\u001b[1;34m\"vier\"\u001b[0m\u001b[1;33m,\u001b[0m \u001b[1;33m[\u001b[0m\u001b[1;36m5\u001b[0m\u001b[1;33m,\u001b[0m \u001b[1;36m6\u001b[0m\u001b[1;33m]\u001b[0m\u001b[1;33m)\u001b[0m\u001b[1;33m\u001b[0m\u001b[1;33m\u001b[0m\u001b[0m\n\u001b[0;32m      2\u001b[0m \u001b[0mprint\u001b[0m\u001b[1;33m(\u001b[0m\u001b[0mtp\u001b[0m\u001b[1;33m[\u001b[0m\u001b[1;36m2\u001b[0m\u001b[1;33m:\u001b[0m\u001b[1;33m:\u001b[0m\u001b[1;33m]\u001b[0m\u001b[1;33m)\u001b[0m\u001b[1;33m\u001b[0m\u001b[1;33m\u001b[0m\u001b[0m\n\u001b[1;32m----> 3\u001b[1;33m \u001b[0mtp\u001b[0m\u001b[1;33m[\u001b[0m\u001b[1;36m0\u001b[0m\u001b[1;33m]\u001b[0m \u001b[1;33m=\u001b[0m \u001b[1;34m\"null\"\u001b[0m\u001b[1;33m\u001b[0m\u001b[1;33m\u001b[0m\u001b[0m\n\u001b[0m",
      "\u001b[1;31mTypeError\u001b[0m: 'tuple' object does not support item assignment"
     ]
    }
   ],
   "source": [
    "tp = (1, 2, 3.0 ,\"vier\", [5, 6])\n",
    "print(tp[2::])\n",
    "tp[0] = \"null\""
   ]
  },
  {
   "cell_type": "markdown",
   "metadata": {
    "slideshow": {
     "slide_type": "subslide"
    }
   },
   "source": [
    "Tupel sind \"immutable\", also unveränderbar!   \n",
    "Es ist zwar möglich, mit Hilfe des '+'-Operators an ein Tupel \"anzuhängen\", dies ist aber sehr ineffizient, da im Hintergrund ein ganz neues Objekt mit neuer Größe erstellt werden muss, und anschliessend der alte Inhalt herüberkopiert wird.  \n",
    "Deswegen sollte diese Syntax sparsam verwendet werden, d.h. wenn nur sehr wenige Allozierungen zu erwarten sind.  \n",
    "In anderen Sprachen gibt es deutlichere Unterschiede zwischen Tupel und Listen."
   ]
  },
  {
   "cell_type": "code",
   "execution_count": null,
   "metadata": {
    "slideshow": {
     "slide_type": "fragment"
    }
   },
   "outputs": [],
   "source": [
    "tp2 = (7, 8.0, 9.124)\n",
    "tp = tp + tp2 # was passiert hier?\n",
    "print(tp)"
   ]
  },
  {
   "cell_type": "markdown",
   "metadata": {
    "slideshow": {
     "slide_type": "slide"
    }
   },
   "source": [
    "## Dictionaries (Wörterbuecher)  \n",
    "Die sogenannten Dictionaries sind Python's assoziative Datenstrukturen.\n",
    "Das heißt, sie sind nicht nur Aneinanderreihungen von einzelnen Werten, sondern Wertepaaren (Key:Value).  \n",
    "Dabei besteht ein Wertepaar immer aus jeweils einem Schlüssel (\"Key\") und einem zugeordneten Wert (\"Value\").\n",
    "Sowohl der Schlüssel, als auch der Wert dürfen verschiedene Datentypen sein.\n",
    "Somit formt ein Dictionary eine Abbildung eines Datums auf ein anderes Datum."
   ]
  },
  {
   "cell_type": "code",
   "execution_count": 96,
   "metadata": {
    "slideshow": {
     "slide_type": "fragment"
    }
   },
   "outputs": [
    {
     "name": "stdout",
     "output_type": "stream",
     "text": [
      "{'user': 'Kittens123', 'since': '2017-04-12', 'rights': []}\n",
      "{'user': 'GarlicBread25', 'since': '2015-11-11', 'rights': []}\n",
      "{'user': 'BDFL', 'since': '1945-04-12', 'rights': [2, 4, 3]}\n",
      "Kittens123\n",
      "0 109485 {'user': 'Kittens123', 'since': '2017-04-12', 'rights': []}\n",
      "1 109486 {'user': 'GarlicBread25', 'since': '2015-11-11', 'rights': []}\n",
      "2 109487 {'user': 'BDFL', 'since': '1945-04-12', 'rights': [2, 4, 3]}\n"
     ]
    }
   ],
   "source": [
    "admin = {'user': 'BDFL', 'since':'1945-04-12', 'rights': [2, 4, 3]}\n",
    "\n",
    "# Dictionaries koennen auch wieder ineinander geschachtelt werden:\n",
    "accounts = {\n",
    "         109485:{'user':'Kittens123', 'since':'2017-04-12', 'rights':[]},\n",
    "         # auch aus einer Liste von Tupeln kann ein dict erstellt werden:\n",
    "         109486:dict([('user','GarlicBread25'), ('since','2015-11-11'), ('rights',[])]),\n",
    "         # Variablen koennen ebenso verwendet werden wie Literale\n",
    "         109487:admin\n",
    "}\n",
    "\n",
    "print(accounts[109485])\n",
    "# Wird ein Schluessel nicht gefunden, tritt ein KeyError auf!\n",
    "print(accounts[109486])\n",
    "# mit der get() Methode kann man ebenfalls auf Eintraege zugreifen, diese liefert aber im Fehlerfall None zurueck!\n",
    "print(accounts.get(109487))\n",
    "# mittels mehrer eckiger Klammern, koennen die inneren Schluessel direkt adressiert werden!\n",
    "print(accounts[109485]['user'])\n",
    "\n",
    "# Man kann ebenfalls ueber dictionaries iterieren\n",
    "for key, value in accounts.items():\n",
    "    print(key, value)\n",
    "# und auch mit einem index versehen mittels enumerate() (achtung, tupel-notation beachten)\n",
    "for index, (key, value) in enumerate(accounts.items()):\n",
    "    print(index, key, value)\n"
   ]
  },
  {
   "cell_type": "markdown",
   "metadata": {
    "slideshow": {
     "slide_type": "slide"
    }
   },
   "source": [
    "## Sets  (Mengen)\n",
    "Sets sind eine ungeordnete Sammlung von einzigartigen Elementen. Zum Erstellen eines Sets werden ebenfalls geschwungene Klammern verwendet, jedoch sind nur einzelne Elemente als Inhalt erlaubt.  \n",
    "Außerdem bieten Sets die aus der Mathematik bekannten Mengenoperationen: union, intersection, difference and symmetric difference."
   ]
  },
  {
   "cell_type": "code",
   "execution_count": 99,
   "metadata": {
    "slideshow": {
     "slide_type": "fragment"
    }
   },
   "outputs": [
    {
     "name": "stdout",
     "output_type": "stream",
     "text": [
      "{1, 2, 3}\n",
      "{1, 2, 3, 9}\n",
      "\n",
      "s = {1, 2, 3, 5, 6, 7, 9}\n",
      "q = {1, 2, 11, 6}\n",
      "\n",
      "union\t\t\t {1, 2, 3, 5, 6, 7, 9, 11}\n",
      "intersection\t\t {1, 2, 6}\n",
      "difference s - q\t {9, 3, 5, 7}\n",
      "difference q - s\t {11}\n",
      "symmetric difference\t {3, 5, 7, 9, 11}\n"
     ]
    }
   ],
   "source": [
    "s = {1, 2, 3}\n",
    "print(s)\n",
    "s.add(9)\n",
    "print(s)\n",
    "s.update([5,6], {7, 3}) # sets sind mutable!\n",
    "print('\\ns =', s)\n",
    "q = {11, 6, 2, 1}\n",
    "print('q =', q)\n",
    "print('\\nunion\\t\\t\\t', s | q)\n",
    "print('intersection\\t\\t', s & q)\n",
    "print('difference s - q\\t', s - q) # s not in q\n",
    "print('difference q - s\\t', q - s) # q not in s\n",
    "print('symmetric difference\\t', s ^ q) # (a-b) | (b-a) basically XOR (everything that's not in the intersection)"
   ]
  },
  {
   "cell_type": "markdown",
   "metadata": {
    "slideshow": {
     "slide_type": "slide"
    }
   },
   "source": [
    "## Eigene Funktionen Definieren \n",
    "Bisher haben wir nur vorhandene Funktionen aufgerufen, man kann aber, wie in anderen Programmiersprachen auch, eigene Funktionen definieren. Python nutzt dafür das Schlüsselwort 'def' vor der Angabe der Funktionssignatur.  \n",
    "In diesem Fall ist der Funktionsname make_great und die Argumentenliste enthält nur das Argument 'name' mit dem default-Wert 'Tuvalu'. Dieser wird eingesetzt, wenn ein Nutzer kein Argument übergibt.    \n",
    "Der Funktionskörper enthaelt in diesem Fall nur eine Operation, und zwar die Rückgabe des übergebenen Arguments im Uppercase:"
   ]
  },
  {
   "cell_type": "code",
   "execution_count": 100,
   "metadata": {
    "slideshow": {
     "slide_type": "fragment"
    }
   },
   "outputs": [
    {
     "name": "stdout",
     "output_type": "stream",
     "text": [
      "AUSTRIA\n",
      "TUVALU\n"
     ]
    }
   ],
   "source": [
    "def make_great(name='Tuvalu'):\n",
    "    return name.upper()\n",
    "\n",
    "print(make_great('Austria'))\n",
    "print(make_great())"
   ]
  },
  {
   "cell_type": "markdown",
   "metadata": {
    "slideshow": {
     "slide_type": "subslide"
    }
   },
   "source": [
    "In Python sind sogar Funktionen Objekte und haben somit eigene Methoden und können dadurch auch an Variablen zugewiesen werden:"
   ]
  },
  {
   "cell_type": "code",
   "execution_count": 103,
   "metadata": {
    "slideshow": {
     "slide_type": "fragment"
    }
   },
   "outputs": [
    {
     "name": "stdout",
     "output_type": "stream",
     "text": [
      "<class 'function'> ANDORRA\n",
      "('Tuvalu',)\n"
     ]
    }
   ],
   "source": [
    "funk = make_great\n",
    "print(type(funk), funk(\"Andorra\"))\n",
    "print(make_great.__defaults__)"
   ]
  },
  {
   "cell_type": "markdown",
   "metadata": {
    "slideshow": {
     "slide_type": "fragment"
    }
   },
   "source": [
    "Mit Funktionen können zusammenhängende Teile des Programm gekapselt werden, wodurch Wiederverwendbarkeit gegeben ist, ohne Redundanz einzubauen."
   ]
  },
  {
   "cell_type": "markdown",
   "metadata": {
    "slideshow": {
     "slide_type": "slide"
    }
   },
   "source": [
    "## Entscheidungen Treffen - if...elif...else  \n",
    "Ein reines \"Runterprogrammieren\" von Befehlen bringt uns oft nicht weit - wir müssen staendig Entscheidungen treffen und unser Porgramm entsprechend verzweigen. \n",
    "Das passiert in Programmiersprachen mit den sogenannten if.. else if.. else (wenn.. sonst wenn.. sonst) Befehlen.  \n",
    "Die Schlüsselwoerter in Python sind: if, elif (kurz f. else if) und else. "
   ]
  },
  {
   "cell_type": "code",
   "execution_count": 108,
   "metadata": {
    "slideshow": {
     "slide_type": "fragment"
    }
   },
   "outputs": [
    {
     "name": "stdout",
     "output_type": "stream",
     "text": [
      "it's something else!\n"
     ]
    }
   ],
   "source": [
    "x = '.'\n",
    "if x.isdigit():\n",
    "    print(\"it's a number!\")\n",
    "elif x.isalpha():\n",
    "    print(\"it's a letter!\")\n",
    "else:\n",
    "    print('it\\'s something else!')"
   ]
  },
  {
   "cell_type": "markdown",
   "metadata": {
    "slideshow": {
     "slide_type": "subslide"
    }
   },
   "source": [
    "Wie in anderen Sprachen auch, dürfen if..else Befehle auch geschachtelt werden.  \n",
    "Das Schlüsselwort 'in' erlaubt die Abfrage, ob ein Element in einem anderen Objekt enthalten ist:"
   ]
  },
  {
   "cell_type": "code",
   "execution_count": 109,
   "metadata": {
    "slideshow": {
     "slide_type": "fragment"
    }
   },
   "outputs": [
    {
     "name": "stdout",
     "output_type": "stream",
     "text": [
      "it's a special character\n"
     ]
    }
   ],
   "source": [
    "if x.isdigit():\n",
    "    print(\"it's a number!\")\n",
    "elif x.isalpha():\n",
    "    print(\"it's a letter!\")\n",
    "else:\n",
    "    if x in ['.', ',', '!', '#', '$', '%', '&', '\\'', '*', '+', '-', '/', '=', '?', '^', '_', '`', '~']:\n",
    "        m = \"it's a special character\"\n",
    "    else:\n",
    "        m = \"it's something else\"\n",
    "    print(m)"
   ]
  },
  {
   "cell_type": "markdown",
   "metadata": {
    "slideshow": {
     "slide_type": "slide"
    }
   },
   "source": [
    "## Programmteile Wiederholen - Schleifen  \n",
    "Im Gegensatz zu anderen Programmierprachen bietet Python nur zwei Schleifenformen an: Die for- und die while-Schleife. "
   ]
  },
  {
   "cell_type": "markdown",
   "metadata": {
    "slideshow": {
     "slide_type": "subslide"
    }
   },
   "source": [
    "### Die for-Schleife \n",
    "Mit dieser Schleife lässt sich über eine beliebige vorhande Sequenz (Iterator, Liste, etc.) iterieren."
   ]
  },
  {
   "cell_type": "code",
   "execution_count": 110,
   "metadata": {
    "slideshow": {
     "slide_type": "fragment"
    }
   },
   "outputs": [
    {
     "name": "stdout",
     "output_type": "stream",
     "text": [
      "0\n",
      "1\n",
      "2\n",
      "3\n",
      "4\n",
      "5\n",
      "6\n",
      "7\n",
      "8\n",
      "9\n",
      "Hans\n",
      "Rudi\n",
      "Albert\n",
      "Albert\n",
      "Rudi\n",
      "Hans\n"
     ]
    }
   ],
   "source": [
    "# Iterator\n",
    "for x in range(0, 10):\n",
    "    print(x)\n",
    "\n",
    "# Liste\n",
    "c = ['Hans', 'Rudi', 'Albert']\n",
    "d = ['Maier', 'Schmidt', 'Fassbinder']\n",
    "\n",
    "for name in c:\n",
    "    print(name)\n",
    "\n",
    "for item in reversed(c):\n",
    "    print(item)\n"
   ]
  },
  {
   "cell_type": "markdown",
   "metadata": {
    "slideshow": {
     "slide_type": "subslide"
    }
   },
   "source": [
    "Um den Index eines Elements auszugeben, gibt es die eingebaute Funktion enumerate().  \n",
    "Auch lässt sich über mehrere Sequenzen iterieren, indem sie mit zip() zusammegefügt werden."
   ]
  },
  {
   "cell_type": "code",
   "execution_count": 111,
   "metadata": {
    "scrolled": false,
    "slideshow": {
     "slide_type": "fragment"
    }
   },
   "outputs": [
    {
     "name": "stdout",
     "output_type": "stream",
     "text": [
      "0 Hans\n",
      "1 Rudi\n",
      "2 Albert\n",
      "('Hans', 'Maier')\n",
      "('Rudi', 'Schmidt')\n",
      "('Albert', 'Fassbinder')\n",
      "Hans Maier\n",
      "Rudi Schmidt\n",
      "Albert Fassbinder\n"
     ]
    }
   ],
   "source": [
    "# mit enumerate() bekommen wir einen Index zu jedem Element\n",
    "for i, v in enumerate(c):\n",
    "     print(i, v)\n",
    "\n",
    "# mit zip() lassen sich zwei Sequenzen zusammenfuegen\n",
    "for t in zip(c, d):\n",
    "    print(t)\n",
    "    \n",
    "# und auch weiterhin einzeln adressieren\n",
    "for v, w in zip(c, d):\n",
    "    print(v, w)"
   ]
  },
  {
   "cell_type": "markdown",
   "metadata": {
    "slideshow": {
     "slide_type": "subslide"
    }
   },
   "source": [
    "### Die while-Schleife  \n",
    "Die while-Schleife ist dann die richtige Wahl, wenn die Anzahl der Durchläufe noch nicht bekannt ist. Sie läuft solange eine bestimmte Kondition erfüllt ist:"
   ]
  },
  {
   "cell_type": "code",
   "execution_count": 112,
   "metadata": {
    "slideshow": {
     "slide_type": "fragment"
    }
   },
   "outputs": [
    {
     "name": "stdout",
     "output_type": "stream",
     "text": [
      "1\n",
      "2\n",
      "4\n",
      "8\n",
      "16\n",
      "32\n",
      "64\n",
      "128\n",
      "256\n"
     ]
    }
   ],
   "source": [
    "x = 1\n",
    "while x <= 256:\n",
    "    print(x)\n",
    "    x *= 2 # x = x * 2"
   ]
  },
  {
   "cell_type": "markdown",
   "metadata": {
    "slideshow": {
     "slide_type": "subslide"
    }
   },
   "source": [
    "### break und continue \n",
    "Manchmal möchte man:  \n",
    " - aus einer Schleife aussteigen, sobald eine bestimmte Kondition erreicht ist, ohne den Rest der Schleife auszuführen, dies nennt man _break_  \n",
    " - eine Schleife fortzusetzen, ohne den Rest der Schleife auszuführen, nennt man _continue_  \n",
    " \n",
    "Diese Konzepte gibt es ebenfalls ist anderen Sprachen und funktionieren dort genauso."
   ]
  },
  {
   "cell_type": "code",
   "execution_count": 113,
   "metadata": {
    "slideshow": {
     "slide_type": "fragment"
    }
   },
   "outputs": [
    {
     "name": "stdout",
     "output_type": "stream",
     "text": [
      "0\n",
      "2\n",
      "4\n",
      "6\n",
      "8\n"
     ]
    }
   ],
   "source": [
    "# Gibt nur gerade zahlen aus\n",
    "for x in range(0, 10):\n",
    "    if (x % 2 != 0):\n",
    "        continue\n",
    "    print(x) # kein else benoetigt"
   ]
  },
  {
   "cell_type": "code",
   "execution_count": 114,
   "metadata": {
    "slideshow": {
     "slide_type": "fragment"
    }
   },
   "outputs": [
    {
     "name": "stdout",
     "output_type": "stream",
     "text": [
      "1\n",
      "2\n",
      "3\n",
      "4\n"
     ]
    }
   ],
   "source": [
    "# zaehlt nur bis exkl. 5 (achtung, 0 % 5 ist 0)\n",
    "for i in range(1, 10):\n",
    "    if i % 5 == 0:\n",
    "        break\n",
    "    print(i)"
   ]
  },
  {
   "cell_type": "markdown",
   "metadata": {
    "slideshow": {
     "slide_type": "fragment"
    }
   },
   "source": [
    "Python erlaubt ausserdem die Verwendung von else-Zweigen zusammen mit Schleifen! Dies ist aber eine Eigenheit von Python die so sonst selten zu finden ist. Deswegen ist sie nicht Teil dieses Anfaenger-Workshops!   \n",
    "\n",
    "Weitere Beispiele dazu gibt es in der [offiziellen Dokumentation](https://docs.python.org/3/tutorial/controlflow.html)"
   ]
  },
  {
   "cell_type": "markdown",
   "metadata": {
    "slideshow": {
     "slide_type": "slide"
    }
   },
   "source": [
    "## Lambda Funktionen  \n",
    "Lambda Funktionen sind eine besondere Art von Funktionen, sie sind anonym! Konkret bedeutet das, dass sie keine eigene Signatur besitzen und mit dem Schlüsselwort 'lambda' definiert werden. Man könnte sie als \"Wegwerf-Funktionen\" bezeichnen. Sie werden oft dort eingesetzt, wo man kleinere Operationen übersichtlich einbringen kann, z.b. simple Arithmetik: "
   ]
  },
  {
   "cell_type": "code",
   "execution_count": 117,
   "metadata": {
    "slideshow": {
     "slide_type": "fragment"
    }
   },
   "outputs": [
    {
     "name": "stdout",
     "output_type": "stream",
     "text": [
      "range(0, 10)\n",
      "[0, 1, 4, 9, 16, 25, 36, 49, 64, 81]\n"
     ]
    }
   ],
   "source": [
    "x = (range(0,10,1)) # erzeugt einen Iterator\n",
    "print(x)\n",
    "y = list((map(lambda a: a**2, x)))\n",
    "print(y)"
   ]
  },
  {
   "cell_type": "markdown",
   "metadata": {
    "slideshow": {
     "slide_type": "fragment"
    }
   },
   "source": [
    "Mit Hilfe der map() Funktion wird dann unsere Lambda-Funktion auf jedes Element des Iterators angewandt, und schließlich in eine einfache Liste umgewandelt."
   ]
  },
  {
   "cell_type": "markdown",
   "metadata": {
    "slideshow": {
     "slide_type": "slide"
    }
   },
   "source": [
    "## List-Comprehensions   \n",
    "Ein alternativer Weg mit Python-Listen und -Iteratoren umzugehen, sind die sog. List-Comprehensions (dt. hier unpassend bzw. nicht üblich). Augenscheinlich sehen sie wie eine sehr kompakte Schleife aus, sind jedoch aufgrund ihrer Implementierung viel schneller als Schleifen.  \n",
    "Ausserdem ist es nicht nötig, das Ergebnis explizit in eine Liste umzuwandeln (s. lambda) und dadurch syntaktisch klarer (solange sie nicht verschachtelt sind!)."
   ]
  },
  {
   "cell_type": "code",
   "execution_count": 119,
   "metadata": {
    "slideshow": {
     "slide_type": "fragment"
    }
   },
   "outputs": [
    {
     "name": "stdout",
     "output_type": "stream",
     "text": [
      "range(0, 10)\n",
      "[0, 1, 4, 9, 16, 25, 36, 49, 64, 81]\n"
     ]
    }
   ],
   "source": [
    "x = (range(0,10,1))\n",
    "print(x)\n",
    "y = [a**2 for a in x]\n",
    "print(y)"
   ]
  },
  {
   "cell_type": "markdown",
   "metadata": {
    "slideshow": {
     "slide_type": "slide"
    }
   },
   "source": [
    "## Klassen  \n",
    "Diejenigen, die schon Programmierkenntnisse mitbringen, wundern sich bestimmt wie man in Python eigene Datenstrukturen definieren kann. Python bietet dazu, wie andere objektorientierte Sprachen auch, Klassendefinitionen mit eigenen Vererbungskonzepten an.  \n",
    "\n",
    "Da dieser Workshop auf Beginner abzielt, welche einfache Aufgaben mit einfachen Skripten automatisieren wollen, werden die Klassenmechanismen nur bei Bedarf besprochen. \n",
    "Komplexere Programmierung in Python erfordert es, saubere Programmiertechniken durchzusetzen, die durch das dynamische Typsystem nicht erzwungen werden.  \n",
    "\n",
    "Mehr in der [offiziellen Dokumentation](https://docs.python.org/3/tutorial/classes.html)"
   ]
  },
  {
   "cell_type": "code",
   "execution_count": null,
   "metadata": {},
   "outputs": [],
   "source": []
  }
 ],
 "metadata": {
  "celltoolbar": "Slideshow",
  "kernelspec": {
   "display_name": "Python 3 (ipykernel)",
   "language": "python",
   "name": "python3"
  },
  "language_info": {
   "codemirror_mode": {
    "name": "ipython",
    "version": 3
   },
   "file_extension": ".py",
   "mimetype": "text/x-python",
   "name": "python",
   "nbconvert_exporter": "python",
   "pygments_lexer": "ipython3",
   "version": "3.9.6"
  }
 },
 "nbformat": 4,
 "nbformat_minor": 4
}
